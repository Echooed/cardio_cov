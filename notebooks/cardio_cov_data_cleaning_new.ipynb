{
 "cells": [
  {
   "cell_type": "markdown",
   "metadata": {},
   "source": [
    "### Gather data and load in file into data\n"
   ]
  },
  {
   "cell_type": "code",
   "execution_count": 209,
   "metadata": {},
   "outputs": [],
   "source": [
    "import pandas as pd\n",
    "import numpy as np\n",
    "import seaborn as sns\n",
    "import matplotlib.pyplot as plt\n",
    "\n",
    "# load data into dataframe using pandas\n",
    "df_cardio_base = pd.read_csv(r'c:\\users\\HP\\Turing_env\\cardio_base.csv')\n",
    "df_cardio_alco = pd.read_csv(r'c:\\users\\HP\\Turing_env\\cardio_alco.csv', sep = ';')\n",
    "df_covid_data = pd.read_csv(r'c:\\users\\HP\\Turing_env\\covid_data.csv')\n"
   ]
  },
  {
   "cell_type": "markdown",
   "metadata": {},
   "source": [
    "### covid_data quality Assessment"
   ]
  },
  {
   "cell_type": "code",
   "execution_count": 210,
   "metadata": {},
   "outputs": [
    {
     "data": {
      "text/html": [
       "<div>\n",
       "<style scoped>\n",
       "    .dataframe tbody tr th:only-of-type {\n",
       "        vertical-align: middle;\n",
       "    }\n",
       "\n",
       "    .dataframe tbody tr th {\n",
       "        vertical-align: top;\n",
       "    }\n",
       "\n",
       "    .dataframe thead th {\n",
       "        text-align: right;\n",
       "    }\n",
       "</style>\n",
       "<table border=\"1\" class=\"dataframe\">\n",
       "  <thead>\n",
       "    <tr style=\"text-align: right;\">\n",
       "      <th></th>\n",
       "      <th>location</th>\n",
       "      <th>date</th>\n",
       "      <th>new_cases</th>\n",
       "      <th>new_deaths</th>\n",
       "      <th>population</th>\n",
       "      <th>aged_65_older_percent</th>\n",
       "      <th>gdp_per_capita</th>\n",
       "      <th>hospital_beds_per_thousand</th>\n",
       "    </tr>\n",
       "  </thead>\n",
       "  <tbody>\n",
       "    <tr>\n",
       "      <th>0</th>\n",
       "      <td>Afghanistan</td>\n",
       "      <td>2019-12-31</td>\n",
       "      <td>0</td>\n",
       "      <td>0</td>\n",
       "      <td>38928341.0</td>\n",
       "      <td>2.581</td>\n",
       "      <td>1803.987</td>\n",
       "      <td>0.5</td>\n",
       "    </tr>\n",
       "    <tr>\n",
       "      <th>1</th>\n",
       "      <td>Afghanistan</td>\n",
       "      <td>2020-01-01</td>\n",
       "      <td>0</td>\n",
       "      <td>0</td>\n",
       "      <td>38928341.0</td>\n",
       "      <td>2.581</td>\n",
       "      <td>1803.987</td>\n",
       "      <td>0.5</td>\n",
       "    </tr>\n",
       "    <tr>\n",
       "      <th>2</th>\n",
       "      <td>Afghanistan</td>\n",
       "      <td>2020-01-02</td>\n",
       "      <td>0</td>\n",
       "      <td>0</td>\n",
       "      <td>38928341.0</td>\n",
       "      <td>2.581</td>\n",
       "      <td>1803.987</td>\n",
       "      <td>0.5</td>\n",
       "    </tr>\n",
       "    <tr>\n",
       "      <th>3</th>\n",
       "      <td>Afghanistan</td>\n",
       "      <td>2020-01-03</td>\n",
       "      <td>0</td>\n",
       "      <td>0</td>\n",
       "      <td>38928341.0</td>\n",
       "      <td>2.581</td>\n",
       "      <td>1803.987</td>\n",
       "      <td>0.5</td>\n",
       "    </tr>\n",
       "    <tr>\n",
       "      <th>4</th>\n",
       "      <td>Afghanistan</td>\n",
       "      <td>2020-01-04</td>\n",
       "      <td>0</td>\n",
       "      <td>0</td>\n",
       "      <td>38928341.0</td>\n",
       "      <td>2.581</td>\n",
       "      <td>1803.987</td>\n",
       "      <td>0.5</td>\n",
       "    </tr>\n",
       "  </tbody>\n",
       "</table>\n",
       "</div>"
      ],
      "text/plain": [
       "      location        date  new_cases  new_deaths  population  \\\n",
       "0  Afghanistan  2019-12-31          0           0  38928341.0   \n",
       "1  Afghanistan  2020-01-01          0           0  38928341.0   \n",
       "2  Afghanistan  2020-01-02          0           0  38928341.0   \n",
       "3  Afghanistan  2020-01-03          0           0  38928341.0   \n",
       "4  Afghanistan  2020-01-04          0           0  38928341.0   \n",
       "\n",
       "   aged_65_older_percent  gdp_per_capita  hospital_beds_per_thousand  \n",
       "0                  2.581        1803.987                         0.5  \n",
       "1                  2.581        1803.987                         0.5  \n",
       "2                  2.581        1803.987                         0.5  \n",
       "3                  2.581        1803.987                         0.5  \n",
       "4                  2.581        1803.987                         0.5  "
      ]
     },
     "execution_count": 210,
     "metadata": {},
     "output_type": "execute_result"
    }
   ],
   "source": [
    "df_covid_data.head()"
   ]
  },
  {
   "cell_type": "code",
   "execution_count": 211,
   "metadata": {},
   "outputs": [
    {
     "data": {
      "text/plain": [
       "(23082, 8)"
      ]
     },
     "execution_count": 211,
     "metadata": {},
     "output_type": "execute_result"
    }
   ],
   "source": [
    "df_covid_data.shape"
   ]
  },
  {
   "cell_type": "code",
   "execution_count": 212,
   "metadata": {},
   "outputs": [
    {
     "data": {
      "text/html": [
       "<div>\n",
       "<style scoped>\n",
       "    .dataframe tbody tr th:only-of-type {\n",
       "        vertical-align: middle;\n",
       "    }\n",
       "\n",
       "    .dataframe tbody tr th {\n",
       "        vertical-align: top;\n",
       "    }\n",
       "\n",
       "    .dataframe thead th {\n",
       "        text-align: right;\n",
       "    }\n",
       "</style>\n",
       "<table border=\"1\" class=\"dataframe\">\n",
       "  <thead>\n",
       "    <tr style=\"text-align: right;\">\n",
       "      <th></th>\n",
       "      <th>location</th>\n",
       "      <th>date</th>\n",
       "      <th>new_cases</th>\n",
       "      <th>new_deaths</th>\n",
       "      <th>population</th>\n",
       "      <th>aged_65_older_percent</th>\n",
       "      <th>gdp_per_capita</th>\n",
       "      <th>hospital_beds_per_thousand</th>\n",
       "    </tr>\n",
       "  </thead>\n",
       "  <tbody>\n",
       "    <tr>\n",
       "      <th>16126</th>\n",
       "      <td>Palestine</td>\n",
       "      <td>2020-03-22</td>\n",
       "      <td>4</td>\n",
       "      <td>0</td>\n",
       "      <td>5101416.0</td>\n",
       "      <td>3.043</td>\n",
       "      <td>4449.898</td>\n",
       "      <td>NaN</td>\n",
       "    </tr>\n",
       "    <tr>\n",
       "      <th>9363</th>\n",
       "      <td>Hong Kong</td>\n",
       "      <td>2020-05-19</td>\n",
       "      <td>0</td>\n",
       "      <td>0</td>\n",
       "      <td>7496988.0</td>\n",
       "      <td>16.303</td>\n",
       "      <td>56054.920</td>\n",
       "      <td>NaN</td>\n",
       "    </tr>\n",
       "    <tr>\n",
       "      <th>16350</th>\n",
       "      <td>Papua New Guinea</td>\n",
       "      <td>2020-05-10</td>\n",
       "      <td>0</td>\n",
       "      <td>0</td>\n",
       "      <td>8947027.0</td>\n",
       "      <td>3.808</td>\n",
       "      <td>3823.194</td>\n",
       "      <td>NaN</td>\n",
       "    </tr>\n",
       "    <tr>\n",
       "      <th>14719</th>\n",
       "      <td>Nepal</td>\n",
       "      <td>2020-02-13</td>\n",
       "      <td>0</td>\n",
       "      <td>0</td>\n",
       "      <td>29136808.0</td>\n",
       "      <td>5.809</td>\n",
       "      <td>2442.804</td>\n",
       "      <td>0.30</td>\n",
       "    </tr>\n",
       "    <tr>\n",
       "      <th>12479</th>\n",
       "      <td>Lithuania</td>\n",
       "      <td>2020-03-01</td>\n",
       "      <td>0</td>\n",
       "      <td>0</td>\n",
       "      <td>2722291.0</td>\n",
       "      <td>19.002</td>\n",
       "      <td>29524.265</td>\n",
       "      <td>6.56</td>\n",
       "    </tr>\n",
       "    <tr>\n",
       "      <th>1621</th>\n",
       "      <td>Bahamas</td>\n",
       "      <td>2020-06-01</td>\n",
       "      <td>0</td>\n",
       "      <td>0</td>\n",
       "      <td>393248.0</td>\n",
       "      <td>8.996</td>\n",
       "      <td>27717.847</td>\n",
       "      <td>2.90</td>\n",
       "    </tr>\n",
       "    <tr>\n",
       "      <th>13124</th>\n",
       "      <td>Malaysia</td>\n",
       "      <td>2020-03-22</td>\n",
       "      <td>153</td>\n",
       "      <td>2</td>\n",
       "      <td>32365998.0</td>\n",
       "      <td>6.293</td>\n",
       "      <td>26808.164</td>\n",
       "      <td>1.90</td>\n",
       "    </tr>\n",
       "    <tr>\n",
       "      <th>2936</th>\n",
       "      <td>Botswana</td>\n",
       "      <td>2020-05-16</td>\n",
       "      <td>0</td>\n",
       "      <td>0</td>\n",
       "      <td>2351625.0</td>\n",
       "      <td>3.941</td>\n",
       "      <td>15807.374</td>\n",
       "      <td>1.80</td>\n",
       "    </tr>\n",
       "    <tr>\n",
       "      <th>6396</th>\n",
       "      <td>Egypt</td>\n",
       "      <td>2020-05-07</td>\n",
       "      <td>387</td>\n",
       "      <td>17</td>\n",
       "      <td>102334403.0</td>\n",
       "      <td>5.159</td>\n",
       "      <td>10550.206</td>\n",
       "      <td>1.60</td>\n",
       "    </tr>\n",
       "    <tr>\n",
       "      <th>3108</th>\n",
       "      <td>Brazil</td>\n",
       "      <td>2020-05-25</td>\n",
       "      <td>15813</td>\n",
       "      <td>653</td>\n",
       "      <td>212559409.0</td>\n",
       "      <td>8.552</td>\n",
       "      <td>14103.452</td>\n",
       "      <td>2.20</td>\n",
       "    </tr>\n",
       "  </tbody>\n",
       "</table>\n",
       "</div>"
      ],
      "text/plain": [
       "               location        date  new_cases  new_deaths   population  \\\n",
       "16126         Palestine  2020-03-22          4           0    5101416.0   \n",
       "9363          Hong Kong  2020-05-19          0           0    7496988.0   \n",
       "16350  Papua New Guinea  2020-05-10          0           0    8947027.0   \n",
       "14719             Nepal  2020-02-13          0           0   29136808.0   \n",
       "12479         Lithuania  2020-03-01          0           0    2722291.0   \n",
       "1621            Bahamas  2020-06-01          0           0     393248.0   \n",
       "13124          Malaysia  2020-03-22        153           2   32365998.0   \n",
       "2936           Botswana  2020-05-16          0           0    2351625.0   \n",
       "6396              Egypt  2020-05-07        387          17  102334403.0   \n",
       "3108             Brazil  2020-05-25      15813         653  212559409.0   \n",
       "\n",
       "       aged_65_older_percent  gdp_per_capita  hospital_beds_per_thousand  \n",
       "16126                  3.043        4449.898                         NaN  \n",
       "9363                  16.303       56054.920                         NaN  \n",
       "16350                  3.808        3823.194                         NaN  \n",
       "14719                  5.809        2442.804                        0.30  \n",
       "12479                 19.002       29524.265                        6.56  \n",
       "1621                   8.996       27717.847                        2.90  \n",
       "13124                  6.293       26808.164                        1.90  \n",
       "2936                   3.941       15807.374                        1.80  \n",
       "6396                   5.159       10550.206                        1.60  \n",
       "3108                   8.552       14103.452                        2.20  "
      ]
     },
     "execution_count": 212,
     "metadata": {},
     "output_type": "execute_result"
    }
   ],
   "source": [
    "df_covid_data.sample(10)"
   ]
  },
  {
   "cell_type": "code",
   "execution_count": 213,
   "metadata": {},
   "outputs": [
    {
     "name": "stdout",
     "output_type": "stream",
     "text": [
      "<class 'pandas.core.frame.DataFrame'>\n",
      "RangeIndex: 23082 entries, 0 to 23081\n",
      "Data columns (total 8 columns):\n",
      " #   Column                      Non-Null Count  Dtype  \n",
      "---  ------                      --------------  -----  \n",
      " 0   location                    23082 non-null  object \n",
      " 1   date                        23082 non-null  object \n",
      " 2   new_cases                   23082 non-null  int64  \n",
      " 3   new_deaths                  23082 non-null  int64  \n",
      " 4   population                  23018 non-null  float64\n",
      " 5   aged_65_older_percent       20643 non-null  float64\n",
      " 6   gdp_per_capita              20711 non-null  float64\n",
      " 7   hospital_beds_per_thousand  19144 non-null  float64\n",
      "dtypes: float64(4), int64(2), object(2)\n",
      "memory usage: 1.4+ MB\n"
     ]
    }
   ],
   "source": [
    "df_covid_data.info()"
   ]
  },
  {
   "cell_type": "markdown",
   "metadata": {},
   "source": [
    "date column is an object dtype instead of datetime format.\n",
    "\n"
   ]
  },
  {
   "cell_type": "code",
   "execution_count": 214,
   "metadata": {},
   "outputs": [
    {
     "data": {
      "text/html": [
       "<div>\n",
       "<style scoped>\n",
       "    .dataframe tbody tr th:only-of-type {\n",
       "        vertical-align: middle;\n",
       "    }\n",
       "\n",
       "    .dataframe tbody tr th {\n",
       "        vertical-align: top;\n",
       "    }\n",
       "\n",
       "    .dataframe thead th {\n",
       "        text-align: right;\n",
       "    }\n",
       "</style>\n",
       "<table border=\"1\" class=\"dataframe\">\n",
       "  <thead>\n",
       "    <tr style=\"text-align: right;\">\n",
       "      <th></th>\n",
       "      <th>new_cases</th>\n",
       "      <th>new_deaths</th>\n",
       "      <th>population</th>\n",
       "      <th>aged_65_older_percent</th>\n",
       "      <th>gdp_per_capita</th>\n",
       "      <th>hospital_beds_per_thousand</th>\n",
       "    </tr>\n",
       "  </thead>\n",
       "  <tbody>\n",
       "    <tr>\n",
       "      <th>count</th>\n",
       "      <td>23082.000000</td>\n",
       "      <td>23082.000000</td>\n",
       "      <td>2.301800e+04</td>\n",
       "      <td>20643.000000</td>\n",
       "      <td>20711.000000</td>\n",
       "      <td>19144.000000</td>\n",
       "    </tr>\n",
       "    <tr>\n",
       "      <th>mean</th>\n",
       "      <td>624.769257</td>\n",
       "      <td>35.629062</td>\n",
       "      <td>1.037003e+08</td>\n",
       "      <td>9.758570</td>\n",
       "      <td>22708.384791</td>\n",
       "      <td>3.204687</td>\n",
       "    </tr>\n",
       "    <tr>\n",
       "      <th>std</th>\n",
       "      <td>5517.309068</td>\n",
       "      <td>330.986941</td>\n",
       "      <td>6.716897e+08</td>\n",
       "      <td>6.445662</td>\n",
       "      <td>21187.826121</td>\n",
       "      <td>2.593700</td>\n",
       "    </tr>\n",
       "    <tr>\n",
       "      <th>min</th>\n",
       "      <td>-2461.000000</td>\n",
       "      <td>-1918.000000</td>\n",
       "      <td>8.090000e+02</td>\n",
       "      <td>1.144000</td>\n",
       "      <td>661.240000</td>\n",
       "      <td>0.100000</td>\n",
       "    </tr>\n",
       "    <tr>\n",
       "      <th>25%</th>\n",
       "      <td>0.000000</td>\n",
       "      <td>0.000000</td>\n",
       "      <td>2.083380e+06</td>\n",
       "      <td>3.853000</td>\n",
       "      <td>6426.674000</td>\n",
       "      <td>1.400000</td>\n",
       "    </tr>\n",
       "    <tr>\n",
       "      <th>50%</th>\n",
       "      <td>3.000000</td>\n",
       "      <td>0.000000</td>\n",
       "      <td>9.449321e+06</td>\n",
       "      <td>7.646000</td>\n",
       "      <td>15524.995000</td>\n",
       "      <td>2.600000</td>\n",
       "    </tr>\n",
       "    <tr>\n",
       "      <th>75%</th>\n",
       "      <td>55.000000</td>\n",
       "      <td>1.000000</td>\n",
       "      <td>3.346920e+07</td>\n",
       "      <td>15.322000</td>\n",
       "      <td>35220.084000</td>\n",
       "      <td>4.210000</td>\n",
       "    </tr>\n",
       "    <tr>\n",
       "      <th>max</th>\n",
       "      <td>133510.000000</td>\n",
       "      <td>10520.000000</td>\n",
       "      <td>7.794799e+09</td>\n",
       "      <td>27.049000</td>\n",
       "      <td>116935.600000</td>\n",
       "      <td>13.800000</td>\n",
       "    </tr>\n",
       "  </tbody>\n",
       "</table>\n",
       "</div>"
      ],
      "text/plain": [
       "           new_cases    new_deaths    population  aged_65_older_percent  \\\n",
       "count   23082.000000  23082.000000  2.301800e+04           20643.000000   \n",
       "mean      624.769257     35.629062  1.037003e+08               9.758570   \n",
       "std      5517.309068    330.986941  6.716897e+08               6.445662   \n",
       "min     -2461.000000  -1918.000000  8.090000e+02               1.144000   \n",
       "25%         0.000000      0.000000  2.083380e+06               3.853000   \n",
       "50%         3.000000      0.000000  9.449321e+06               7.646000   \n",
       "75%        55.000000      1.000000  3.346920e+07              15.322000   \n",
       "max    133510.000000  10520.000000  7.794799e+09              27.049000   \n",
       "\n",
       "       gdp_per_capita  hospital_beds_per_thousand  \n",
       "count    20711.000000                19144.000000  \n",
       "mean     22708.384791                    3.204687  \n",
       "std      21187.826121                    2.593700  \n",
       "min        661.240000                    0.100000  \n",
       "25%       6426.674000                    1.400000  \n",
       "50%      15524.995000                    2.600000  \n",
       "75%      35220.084000                    4.210000  \n",
       "max     116935.600000                   13.800000  "
      ]
     },
     "execution_count": 214,
     "metadata": {},
     "output_type": "execute_result"
    }
   ],
   "source": [
    "df_covid_data.describe()"
   ]
  },
  {
   "cell_type": "code",
   "execution_count": 215,
   "metadata": {},
   "outputs": [
    {
     "data": {
      "text/plain": [
       "location                      False\n",
       "date                          False\n",
       "new_cases                     False\n",
       "new_deaths                    False\n",
       "population                     True\n",
       "aged_65_older_percent          True\n",
       "gdp_per_capita                 True\n",
       "hospital_beds_per_thousand     True\n",
       "dtype: bool"
      ]
     },
     "execution_count": 215,
     "metadata": {},
     "output_type": "execute_result"
    }
   ],
   "source": [
    "df_covid_data.isnull().any()"
   ]
  },
  {
   "cell_type": "markdown",
   "metadata": {},
   "source": [
    "##### Investigate missing value in population column\n"
   ]
  },
  {
   "cell_type": "code",
   "execution_count": 216,
   "metadata": {},
   "outputs": [
    {
     "name": "stdout",
     "output_type": "stream",
     "text": [
      "            location        date  new_cases  new_deaths  population  \\\n",
      "23018  International  2019-12-31          0           0         NaN   \n",
      "23019  International  2020-01-01          0           0         NaN   \n",
      "23020  International  2020-01-02          0           0         NaN   \n",
      "23021  International  2020-01-03          0           0         NaN   \n",
      "23022  International  2020-01-04          0           0         NaN   \n",
      "...              ...         ...        ...         ...         ...   \n",
      "23077  International  2020-02-28          0           0         NaN   \n",
      "23078  International  2020-02-29          0           2         NaN   \n",
      "23079  International  2020-03-01          0           0         NaN   \n",
      "23080  International  2020-03-02          0           0         NaN   \n",
      "23081  International  2020-03-10         -9           1         NaN   \n",
      "\n",
      "       aged_65_older_percent  gdp_per_capita  hospital_beds_per_thousand  \n",
      "23018                    NaN             NaN                         NaN  \n",
      "23019                    NaN             NaN                         NaN  \n",
      "23020                    NaN             NaN                         NaN  \n",
      "23021                    NaN             NaN                         NaN  \n",
      "23022                    NaN             NaN                         NaN  \n",
      "...                      ...             ...                         ...  \n",
      "23077                    NaN             NaN                         NaN  \n",
      "23078                    NaN             NaN                         NaN  \n",
      "23079                    NaN             NaN                         NaN  \n",
      "23080                    NaN             NaN                         NaN  \n",
      "23081                    NaN             NaN                         NaN  \n",
      "\n",
      "[64 rows x 8 columns]\n"
     ]
    }
   ],
   "source": [
    "from pprint import pprint \n",
    "\n",
    "## further investigation into null values in each of the column\n",
    "null_population_rows = df_covid_data[df_covid_data['population'].isnull()]\n",
    "\n",
    "pprint(null_population_rows)"
   ]
  },
  {
   "cell_type": "code",
   "execution_count": 217,
   "metadata": {},
   "outputs": [
    {
     "name": "stdout",
     "output_type": "stream",
     "text": [
      "['International']\n"
     ]
    }
   ],
   "source": [
    "## displaying unique location values in the null_population_rows\n",
    "unique_population_row = null_population_rows['location'].unique()\n",
    "\n",
    "print(unique_population_row)"
   ]
  },
  {
   "cell_type": "markdown",
   "metadata": {},
   "source": [
    "_The null population row in the unique to the internation row in the location column. This suggest that it contains other country that is not accounted for in cummulation._"
   ]
  },
  {
   "cell_type": "markdown",
   "metadata": {},
   "source": [
    "##### investigate missing value in aged_65_older_percent"
   ]
  },
  {
   "cell_type": "code",
   "execution_count": 218,
   "metadata": {},
   "outputs": [
    {
     "name": "stdout",
     "output_type": "stream",
     "text": [
      "            location        date  new_cases  new_deaths  population  \\\n",
      "405          Andorra  2020-03-03          1           0     77265.0   \n",
      "406          Andorra  2020-03-14          1           0     77265.0   \n",
      "407          Andorra  2020-03-16          3           0     77265.0   \n",
      "408          Andorra  2020-03-17          9           0     77265.0   \n",
      "409          Andorra  2020-03-18          0           0     77265.0   \n",
      "...              ...         ...        ...         ...         ...   \n",
      "23077  International  2020-02-28          0           0         NaN   \n",
      "23078  International  2020-02-29          0           2         NaN   \n",
      "23079  International  2020-03-01          0           0         NaN   \n",
      "23080  International  2020-03-02          0           0         NaN   \n",
      "23081  International  2020-03-10         -9           1         NaN   \n",
      "\n",
      "       aged_65_older_percent  gdp_per_capita  hospital_beds_per_thousand  \n",
      "405                      NaN             NaN                         NaN  \n",
      "406                      NaN             NaN                         NaN  \n",
      "407                      NaN             NaN                         NaN  \n",
      "408                      NaN             NaN                         NaN  \n",
      "409                      NaN             NaN                         NaN  \n",
      "...                      ...             ...                         ...  \n",
      "23077                    NaN             NaN                         NaN  \n",
      "23078                    NaN             NaN                         NaN  \n",
      "23079                    NaN             NaN                         NaN  \n",
      "23080                    NaN             NaN                         NaN  \n",
      "23081                    NaN             NaN                         NaN  \n",
      "\n",
      "[2439 rows x 8 columns]\n"
     ]
    }
   ],
   "source": [
    "from pprint import pprint \n",
    "\n",
    "## further investigation into null values in each of the column\n",
    "null_65_older_rows = df_covid_data[df_covid_data['aged_65_older_percent'].isnull()]\n",
    "pprint(null_65_older_rows)"
   ]
  },
  {
   "cell_type": "code",
   "execution_count": 219,
   "metadata": {},
   "outputs": [
    {
     "name": "stdout",
     "output_type": "stream",
     "text": [
      "[7.7265000e+04 1.5002000e+04 6.2273000e+04 2.6221000e+04 3.0237000e+04\n",
      " 6.5720000e+04 7.1991000e+04 4.8865000e+04 3.4830000e+03 3.3691000e+04\n",
      " 5.6772000e+04 6.7052000e+04 8.5032000e+04 1.0107300e+05 1.9327740e+06\n",
      " 3.8137000e+04 3.9244000e+04 4.9990000e+03 5.7557000e+04 5.3192000e+04\n",
      " 3.3938000e+04 4.2882000e+04 1.7500657e+07 2.3816775e+07 3.8718000e+04\n",
      " 8.0900000e+02 5.9733000e+05           nan]\n"
     ]
    }
   ],
   "source": [
    "## displaying unique location values in the null_population_rows\n",
    "unique_65_older_row = null_65_older_rows['population'].unique()\n",
    "\n",
    "print(unique_65_older_row)"
   ]
  },
  {
   "cell_type": "markdown",
   "metadata": {},
   "source": [
    "_there are over 2439 empty rows in the \"aged_65_older_percent\" column, which is signicant\n",
    "\n",
    "_I will ignore the data for now until the analysis decide otherwise_\n",
    "\n"
   ]
  },
  {
   "cell_type": "markdown",
   "metadata": {},
   "source": [
    "#### other columns with null values is not signicant for this analysis."
   ]
  },
  {
   "cell_type": "code",
   "execution_count": 220,
   "metadata": {},
   "outputs": [
    {
     "data": {
      "text/plain": [
       "np.False_"
      ]
     },
     "execution_count": 220,
     "metadata": {},
     "output_type": "execute_result"
    }
   ],
   "source": [
    "df_covid_data.duplicated().all()"
   ]
  },
  {
   "cell_type": "code",
   "execution_count": 221,
   "metadata": {},
   "outputs": [
    {
     "data": {
      "text/plain": [
       "np.False_"
      ]
     },
     "execution_count": 221,
     "metadata": {},
     "output_type": "execute_result"
    }
   ],
   "source": [
    "df_covid_data.duplicated().any()"
   ]
  },
  {
   "cell_type": "markdown",
   "metadata": {},
   "source": [
    "## cardio_base Assessment"
   ]
  },
  {
   "cell_type": "code",
   "execution_count": 222,
   "metadata": {},
   "outputs": [
    {
     "data": {
      "text/html": [
       "<div>\n",
       "<style scoped>\n",
       "    .dataframe tbody tr th:only-of-type {\n",
       "        vertical-align: middle;\n",
       "    }\n",
       "\n",
       "    .dataframe tbody tr th {\n",
       "        vertical-align: top;\n",
       "    }\n",
       "\n",
       "    .dataframe thead th {\n",
       "        text-align: right;\n",
       "    }\n",
       "</style>\n",
       "<table border=\"1\" class=\"dataframe\">\n",
       "  <thead>\n",
       "    <tr style=\"text-align: right;\">\n",
       "      <th></th>\n",
       "      <th>id</th>\n",
       "      <th>age</th>\n",
       "      <th>gender</th>\n",
       "      <th>height</th>\n",
       "      <th>weight</th>\n",
       "      <th>ap_hi</th>\n",
       "      <th>ap_lo</th>\n",
       "      <th>cholesterol</th>\n",
       "      <th>smoke</th>\n",
       "    </tr>\n",
       "  </thead>\n",
       "  <tbody>\n",
       "    <tr>\n",
       "      <th>8332</th>\n",
       "      <td>11898</td>\n",
       "      <td>23563</td>\n",
       "      <td>1</td>\n",
       "      <td>164</td>\n",
       "      <td>95.0</td>\n",
       "      <td>120</td>\n",
       "      <td>80</td>\n",
       "      <td>1</td>\n",
       "      <td>1</td>\n",
       "    </tr>\n",
       "    <tr>\n",
       "      <th>44701</th>\n",
       "      <td>63846</td>\n",
       "      <td>17038</td>\n",
       "      <td>1</td>\n",
       "      <td>163</td>\n",
       "      <td>83.0</td>\n",
       "      <td>140</td>\n",
       "      <td>90</td>\n",
       "      <td>2</td>\n",
       "      <td>0</td>\n",
       "    </tr>\n",
       "    <tr>\n",
       "      <th>38045</th>\n",
       "      <td>54310</td>\n",
       "      <td>17478</td>\n",
       "      <td>1</td>\n",
       "      <td>166</td>\n",
       "      <td>76.0</td>\n",
       "      <td>120</td>\n",
       "      <td>80</td>\n",
       "      <td>1</td>\n",
       "      <td>0</td>\n",
       "    </tr>\n",
       "    <tr>\n",
       "      <th>40374</th>\n",
       "      <td>57700</td>\n",
       "      <td>19671</td>\n",
       "      <td>1</td>\n",
       "      <td>158</td>\n",
       "      <td>67.0</td>\n",
       "      <td>130</td>\n",
       "      <td>90</td>\n",
       "      <td>1</td>\n",
       "      <td>0</td>\n",
       "    </tr>\n",
       "    <tr>\n",
       "      <th>29709</th>\n",
       "      <td>42472</td>\n",
       "      <td>19199</td>\n",
       "      <td>1</td>\n",
       "      <td>167</td>\n",
       "      <td>69.0</td>\n",
       "      <td>120</td>\n",
       "      <td>80</td>\n",
       "      <td>1</td>\n",
       "      <td>0</td>\n",
       "    </tr>\n",
       "    <tr>\n",
       "      <th>9599</th>\n",
       "      <td>13685</td>\n",
       "      <td>20986</td>\n",
       "      <td>2</td>\n",
       "      <td>167</td>\n",
       "      <td>65.0</td>\n",
       "      <td>100</td>\n",
       "      <td>70</td>\n",
       "      <td>1</td>\n",
       "      <td>0</td>\n",
       "    </tr>\n",
       "    <tr>\n",
       "      <th>69972</th>\n",
       "      <td>99960</td>\n",
       "      <td>17065</td>\n",
       "      <td>1</td>\n",
       "      <td>165</td>\n",
       "      <td>76.0</td>\n",
       "      <td>140</td>\n",
       "      <td>90</td>\n",
       "      <td>1</td>\n",
       "      <td>0</td>\n",
       "    </tr>\n",
       "    <tr>\n",
       "      <th>26541</th>\n",
       "      <td>37919</td>\n",
       "      <td>15316</td>\n",
       "      <td>1</td>\n",
       "      <td>166</td>\n",
       "      <td>63.0</td>\n",
       "      <td>120</td>\n",
       "      <td>80</td>\n",
       "      <td>1</td>\n",
       "      <td>0</td>\n",
       "    </tr>\n",
       "    <tr>\n",
       "      <th>61193</th>\n",
       "      <td>87371</td>\n",
       "      <td>22526</td>\n",
       "      <td>1</td>\n",
       "      <td>160</td>\n",
       "      <td>98.0</td>\n",
       "      <td>140</td>\n",
       "      <td>90</td>\n",
       "      <td>1</td>\n",
       "      <td>0</td>\n",
       "    </tr>\n",
       "    <tr>\n",
       "      <th>50020</th>\n",
       "      <td>71394</td>\n",
       "      <td>18233</td>\n",
       "      <td>1</td>\n",
       "      <td>165</td>\n",
       "      <td>65.0</td>\n",
       "      <td>150</td>\n",
       "      <td>90</td>\n",
       "      <td>1</td>\n",
       "      <td>0</td>\n",
       "    </tr>\n",
       "  </tbody>\n",
       "</table>\n",
       "</div>"
      ],
      "text/plain": [
       "          id    age  gender  height  weight  ap_hi  ap_lo  cholesterol  smoke\n",
       "8332   11898  23563       1     164    95.0    120     80            1      1\n",
       "44701  63846  17038       1     163    83.0    140     90            2      0\n",
       "38045  54310  17478       1     166    76.0    120     80            1      0\n",
       "40374  57700  19671       1     158    67.0    130     90            1      0\n",
       "29709  42472  19199       1     167    69.0    120     80            1      0\n",
       "9599   13685  20986       2     167    65.0    100     70            1      0\n",
       "69972  99960  17065       1     165    76.0    140     90            1      0\n",
       "26541  37919  15316       1     166    63.0    120     80            1      0\n",
       "61193  87371  22526       1     160    98.0    140     90            1      0\n",
       "50020  71394  18233       1     165    65.0    150     90            1      0"
      ]
     },
     "execution_count": 222,
     "metadata": {},
     "output_type": "execute_result"
    }
   ],
   "source": [
    "df_cardio_base.sample(10)"
   ]
  },
  {
   "cell_type": "code",
   "execution_count": 223,
   "metadata": {},
   "outputs": [
    {
     "data": {
      "text/html": [
       "<div>\n",
       "<style scoped>\n",
       "    .dataframe tbody tr th:only-of-type {\n",
       "        vertical-align: middle;\n",
       "    }\n",
       "\n",
       "    .dataframe tbody tr th {\n",
       "        vertical-align: top;\n",
       "    }\n",
       "\n",
       "    .dataframe thead th {\n",
       "        text-align: right;\n",
       "    }\n",
       "</style>\n",
       "<table border=\"1\" class=\"dataframe\">\n",
       "  <thead>\n",
       "    <tr style=\"text-align: right;\">\n",
       "      <th></th>\n",
       "      <th>id</th>\n",
       "      <th>age</th>\n",
       "      <th>gender</th>\n",
       "      <th>height</th>\n",
       "      <th>weight</th>\n",
       "      <th>ap_hi</th>\n",
       "      <th>ap_lo</th>\n",
       "      <th>cholesterol</th>\n",
       "      <th>smoke</th>\n",
       "    </tr>\n",
       "  </thead>\n",
       "  <tbody>\n",
       "    <tr>\n",
       "      <th>0</th>\n",
       "      <td>0</td>\n",
       "      <td>18393</td>\n",
       "      <td>2</td>\n",
       "      <td>168</td>\n",
       "      <td>62.0</td>\n",
       "      <td>110</td>\n",
       "      <td>80</td>\n",
       "      <td>1</td>\n",
       "      <td>0</td>\n",
       "    </tr>\n",
       "    <tr>\n",
       "      <th>1</th>\n",
       "      <td>1</td>\n",
       "      <td>20228</td>\n",
       "      <td>1</td>\n",
       "      <td>156</td>\n",
       "      <td>85.0</td>\n",
       "      <td>140</td>\n",
       "      <td>90</td>\n",
       "      <td>3</td>\n",
       "      <td>0</td>\n",
       "    </tr>\n",
       "    <tr>\n",
       "      <th>2</th>\n",
       "      <td>2</td>\n",
       "      <td>18857</td>\n",
       "      <td>1</td>\n",
       "      <td>165</td>\n",
       "      <td>64.0</td>\n",
       "      <td>130</td>\n",
       "      <td>70</td>\n",
       "      <td>3</td>\n",
       "      <td>0</td>\n",
       "    </tr>\n",
       "    <tr>\n",
       "      <th>3</th>\n",
       "      <td>3</td>\n",
       "      <td>17623</td>\n",
       "      <td>2</td>\n",
       "      <td>169</td>\n",
       "      <td>82.0</td>\n",
       "      <td>150</td>\n",
       "      <td>100</td>\n",
       "      <td>1</td>\n",
       "      <td>0</td>\n",
       "    </tr>\n",
       "    <tr>\n",
       "      <th>4</th>\n",
       "      <td>4</td>\n",
       "      <td>17474</td>\n",
       "      <td>1</td>\n",
       "      <td>156</td>\n",
       "      <td>56.0</td>\n",
       "      <td>100</td>\n",
       "      <td>60</td>\n",
       "      <td>1</td>\n",
       "      <td>0</td>\n",
       "    </tr>\n",
       "  </tbody>\n",
       "</table>\n",
       "</div>"
      ],
      "text/plain": [
       "   id    age  gender  height  weight  ap_hi  ap_lo  cholesterol  smoke\n",
       "0   0  18393       2     168    62.0    110     80            1      0\n",
       "1   1  20228       1     156    85.0    140     90            3      0\n",
       "2   2  18857       1     165    64.0    130     70            3      0\n",
       "3   3  17623       2     169    82.0    150    100            1      0\n",
       "4   4  17474       1     156    56.0    100     60            1      0"
      ]
     },
     "execution_count": 223,
     "metadata": {},
     "output_type": "execute_result"
    }
   ],
   "source": [
    "df_cardio_base.head(5)"
   ]
  },
  {
   "cell_type": "code",
   "execution_count": 224,
   "metadata": {},
   "outputs": [
    {
     "data": {
      "text/plain": [
       "(70000, 9)"
      ]
     },
     "execution_count": 224,
     "metadata": {},
     "output_type": "execute_result"
    }
   ],
   "source": [
    "df_cardio_base.shape"
   ]
  },
  {
   "cell_type": "code",
   "execution_count": 225,
   "metadata": {},
   "outputs": [
    {
     "name": "stdout",
     "output_type": "stream",
     "text": [
      "<class 'pandas.core.frame.DataFrame'>\n",
      "RangeIndex: 70000 entries, 0 to 69999\n",
      "Data columns (total 9 columns):\n",
      " #   Column       Non-Null Count  Dtype  \n",
      "---  ------       --------------  -----  \n",
      " 0   id           70000 non-null  int64  \n",
      " 1   age          70000 non-null  int64  \n",
      " 2   gender       70000 non-null  int64  \n",
      " 3   height       70000 non-null  int64  \n",
      " 4   weight       70000 non-null  float64\n",
      " 5   ap_hi        70000 non-null  int64  \n",
      " 6   ap_lo        70000 non-null  int64  \n",
      " 7   cholesterol  70000 non-null  int64  \n",
      " 8   smoke        70000 non-null  int64  \n",
      "dtypes: float64(1), int64(8)\n",
      "memory usage: 4.8 MB\n"
     ]
    }
   ],
   "source": [
    "df_cardio_base.info()"
   ]
  },
  {
   "cell_type": "code",
   "execution_count": 226,
   "metadata": {},
   "outputs": [
    {
     "data": {
      "text/html": [
       "<div>\n",
       "<style scoped>\n",
       "    .dataframe tbody tr th:only-of-type {\n",
       "        vertical-align: middle;\n",
       "    }\n",
       "\n",
       "    .dataframe tbody tr th {\n",
       "        vertical-align: top;\n",
       "    }\n",
       "\n",
       "    .dataframe thead th {\n",
       "        text-align: right;\n",
       "    }\n",
       "</style>\n",
       "<table border=\"1\" class=\"dataframe\">\n",
       "  <thead>\n",
       "    <tr style=\"text-align: right;\">\n",
       "      <th></th>\n",
       "      <th>id</th>\n",
       "      <th>age</th>\n",
       "      <th>gender</th>\n",
       "      <th>height</th>\n",
       "      <th>weight</th>\n",
       "      <th>ap_hi</th>\n",
       "      <th>ap_lo</th>\n",
       "      <th>cholesterol</th>\n",
       "      <th>smoke</th>\n",
       "    </tr>\n",
       "  </thead>\n",
       "  <tbody>\n",
       "    <tr>\n",
       "      <th>count</th>\n",
       "      <td>70000.000000</td>\n",
       "      <td>70000.000000</td>\n",
       "      <td>70000.000000</td>\n",
       "      <td>70000.000000</td>\n",
       "      <td>70000.000000</td>\n",
       "      <td>70000.000000</td>\n",
       "      <td>70000.000000</td>\n",
       "      <td>70000.000000</td>\n",
       "      <td>70000.000000</td>\n",
       "    </tr>\n",
       "    <tr>\n",
       "      <th>mean</th>\n",
       "      <td>49972.419900</td>\n",
       "      <td>19468.865814</td>\n",
       "      <td>1.349571</td>\n",
       "      <td>164.359229</td>\n",
       "      <td>74.205690</td>\n",
       "      <td>128.817286</td>\n",
       "      <td>96.630414</td>\n",
       "      <td>1.366871</td>\n",
       "      <td>0.088129</td>\n",
       "    </tr>\n",
       "    <tr>\n",
       "      <th>std</th>\n",
       "      <td>28851.302323</td>\n",
       "      <td>2467.251667</td>\n",
       "      <td>0.476838</td>\n",
       "      <td>8.210126</td>\n",
       "      <td>14.395757</td>\n",
       "      <td>154.011419</td>\n",
       "      <td>188.472530</td>\n",
       "      <td>0.680250</td>\n",
       "      <td>0.283484</td>\n",
       "    </tr>\n",
       "    <tr>\n",
       "      <th>min</th>\n",
       "      <td>0.000000</td>\n",
       "      <td>10798.000000</td>\n",
       "      <td>1.000000</td>\n",
       "      <td>55.000000</td>\n",
       "      <td>10.000000</td>\n",
       "      <td>-150.000000</td>\n",
       "      <td>-70.000000</td>\n",
       "      <td>1.000000</td>\n",
       "      <td>0.000000</td>\n",
       "    </tr>\n",
       "    <tr>\n",
       "      <th>25%</th>\n",
       "      <td>25006.750000</td>\n",
       "      <td>17664.000000</td>\n",
       "      <td>1.000000</td>\n",
       "      <td>159.000000</td>\n",
       "      <td>65.000000</td>\n",
       "      <td>120.000000</td>\n",
       "      <td>80.000000</td>\n",
       "      <td>1.000000</td>\n",
       "      <td>0.000000</td>\n",
       "    </tr>\n",
       "    <tr>\n",
       "      <th>50%</th>\n",
       "      <td>50001.500000</td>\n",
       "      <td>19703.000000</td>\n",
       "      <td>1.000000</td>\n",
       "      <td>165.000000</td>\n",
       "      <td>72.000000</td>\n",
       "      <td>120.000000</td>\n",
       "      <td>80.000000</td>\n",
       "      <td>1.000000</td>\n",
       "      <td>0.000000</td>\n",
       "    </tr>\n",
       "    <tr>\n",
       "      <th>75%</th>\n",
       "      <td>74889.250000</td>\n",
       "      <td>21327.000000</td>\n",
       "      <td>2.000000</td>\n",
       "      <td>170.000000</td>\n",
       "      <td>82.000000</td>\n",
       "      <td>140.000000</td>\n",
       "      <td>90.000000</td>\n",
       "      <td>2.000000</td>\n",
       "      <td>0.000000</td>\n",
       "    </tr>\n",
       "    <tr>\n",
       "      <th>max</th>\n",
       "      <td>99999.000000</td>\n",
       "      <td>23713.000000</td>\n",
       "      <td>2.000000</td>\n",
       "      <td>250.000000</td>\n",
       "      <td>200.000000</td>\n",
       "      <td>16020.000000</td>\n",
       "      <td>11000.000000</td>\n",
       "      <td>3.000000</td>\n",
       "      <td>1.000000</td>\n",
       "    </tr>\n",
       "  </tbody>\n",
       "</table>\n",
       "</div>"
      ],
      "text/plain": [
       "                 id           age        gender        height        weight  \\\n",
       "count  70000.000000  70000.000000  70000.000000  70000.000000  70000.000000   \n",
       "mean   49972.419900  19468.865814      1.349571    164.359229     74.205690   \n",
       "std    28851.302323   2467.251667      0.476838      8.210126     14.395757   \n",
       "min        0.000000  10798.000000      1.000000     55.000000     10.000000   \n",
       "25%    25006.750000  17664.000000      1.000000    159.000000     65.000000   \n",
       "50%    50001.500000  19703.000000      1.000000    165.000000     72.000000   \n",
       "75%    74889.250000  21327.000000      2.000000    170.000000     82.000000   \n",
       "max    99999.000000  23713.000000      2.000000    250.000000    200.000000   \n",
       "\n",
       "              ap_hi         ap_lo   cholesterol         smoke  \n",
       "count  70000.000000  70000.000000  70000.000000  70000.000000  \n",
       "mean     128.817286     96.630414      1.366871      0.088129  \n",
       "std      154.011419    188.472530      0.680250      0.283484  \n",
       "min     -150.000000    -70.000000      1.000000      0.000000  \n",
       "25%      120.000000     80.000000      1.000000      0.000000  \n",
       "50%      120.000000     80.000000      1.000000      0.000000  \n",
       "75%      140.000000     90.000000      2.000000      0.000000  \n",
       "max    16020.000000  11000.000000      3.000000      1.000000  "
      ]
     },
     "execution_count": 226,
     "metadata": {},
     "output_type": "execute_result"
    }
   ],
   "source": [
    "df_cardio_base.describe()"
   ]
  },
  {
   "cell_type": "code",
   "execution_count": 227,
   "metadata": {},
   "outputs": [
    {
     "data": {
      "text/plain": [
       "id             False\n",
       "age            False\n",
       "gender         False\n",
       "height         False\n",
       "weight         False\n",
       "ap_hi          False\n",
       "ap_lo          False\n",
       "cholesterol    False\n",
       "smoke          False\n",
       "dtype: bool"
      ]
     },
     "execution_count": 227,
     "metadata": {},
     "output_type": "execute_result"
    }
   ],
   "source": [
    "df_cardio_base.isna().any()"
   ]
  },
  {
   "cell_type": "code",
   "execution_count": 228,
   "metadata": {},
   "outputs": [
    {
     "data": {
      "text/plain": [
       "np.int64(0)"
      ]
     },
     "execution_count": 228,
     "metadata": {},
     "output_type": "execute_result"
    }
   ],
   "source": [
    "df_cardio_base.duplicated().sum()"
   ]
  },
  {
   "cell_type": "code",
   "execution_count": 229,
   "metadata": {},
   "outputs": [
    {
     "data": {
      "image/png": "[encoded data removed]",
      "text/plain": [
       "<Figure size 1000x600 with 1 Axes>"
      ]
     },
     "metadata": {},
     "output_type": "display_data"
    }
   ],
   "source": [
    "# Create a scatter plot to visualize outliers\n",
    "plt.figure(figsize=(10, 6))\n",
    "plt.scatter(df_cardio_base['ap_hi'], df_cardio_base['ap_lo'], color='blue', alpha=0.6)\n",
    "plt.title('Scatter Plot of ap_hi vs. ap_lo')\n",
    "plt.xlabel('ap_hi')\n",
    "plt.ylabel('ap_lo')\n",
    "plt.axhline(y=0, color='red', linestyle='--')  # Optional: horizontal line for reference\n",
    "plt.axvline(x=0, color='red', linestyle='--')  # Optional: vertical line for reference\n",
    "plt.grid(True)\n",
    "plt.show()"
   ]
  },
  {
   "cell_type": "code",
   "execution_count": 230,
   "metadata": {},
   "outputs": [
    {
     "name": "stdout",
     "output_type": "stream",
     "text": [
      "Outliers in 'ap_lo' using Z-score:\n",
      "\n",
      "           id    age  gender  height  weight  ap_hi  ap_lo  cholesterol  smoke\n",
      "228      314  17489       2     183    98.0    160   1100            1      1\n",
      "241      334  21932       2     157    60.0    160   1000            2      0\n",
      "260      357  18217       1     150    83.0    140    800            1      0\n",
      "329      458  23407       1     176    63.0    160   1000            2      0\n",
      "345      482  18704       1     154    81.0    140   1000            2      0\n",
      "...      ...    ...     ...     ...     ...    ...    ...          ...    ...\n",
      "69771  99659  23330       1     167    81.0    160   1000            1      0\n",
      "69872  99798  21808       1     152    56.0    160   1000            1      0\n",
      "69878  99807  21239       2     168    95.0    160   1000            1      0\n",
      "69885  99816  22417       2     166    78.0    170   1000            1      0\n",
      "69967  99955  21416       2     168    63.0    140   1000            1      0\n",
      "\n",
      "[951 rows x 9 columns]\n"
     ]
    }
   ],
   "source": [
    "## using z_score to calculate the presence of outlier in this table for further looking into the data.\n",
    "\n",
    "from scipy import stats\n",
    "\n",
    "# Calculate Z-scores\n",
    "z_scores = stats.zscore(df_cardio_base['ap_lo'])\n",
    "outliers_z = df_cardio_base[(z_scores > 3) | (z_scores < -3)]\n",
    "\n",
    "print(f\"Outliers in 'ap_lo' using Z-score:\\n\\n {outliers_z}\")"
   ]
  },
  {
   "cell_type": "markdown",
   "metadata": {},
   "source": [
    "## Cardio_alco  Assessment"
   ]
  },
  {
   "cell_type": "code",
   "execution_count": 231,
   "metadata": {},
   "outputs": [
    {
     "data": {
      "text/html": [
       "<div>\n",
       "<style scoped>\n",
       "    .dataframe tbody tr th:only-of-type {\n",
       "        vertical-align: middle;\n",
       "    }\n",
       "\n",
       "    .dataframe tbody tr th {\n",
       "        vertical-align: top;\n",
       "    }\n",
       "\n",
       "    .dataframe thead th {\n",
       "        text-align: right;\n",
       "    }\n",
       "</style>\n",
       "<table border=\"1\" class=\"dataframe\">\n",
       "  <thead>\n",
       "    <tr style=\"text-align: right;\">\n",
       "      <th></th>\n",
       "      <th>id</th>\n",
       "      <th>alco</th>\n",
       "    </tr>\n",
       "  </thead>\n",
       "  <tbody>\n",
       "    <tr>\n",
       "      <th>0</th>\n",
       "      <td>44</td>\n",
       "      <td>0</td>\n",
       "    </tr>\n",
       "    <tr>\n",
       "      <th>1</th>\n",
       "      <td>45</td>\n",
       "      <td>0</td>\n",
       "    </tr>\n",
       "    <tr>\n",
       "      <th>2</th>\n",
       "      <td>46</td>\n",
       "      <td>0</td>\n",
       "    </tr>\n",
       "    <tr>\n",
       "      <th>3</th>\n",
       "      <td>47</td>\n",
       "      <td>0</td>\n",
       "    </tr>\n",
       "    <tr>\n",
       "      <th>4</th>\n",
       "      <td>49</td>\n",
       "      <td>0</td>\n",
       "    </tr>\n",
       "  </tbody>\n",
       "</table>\n",
       "</div>"
      ],
      "text/plain": [
       "   id  alco\n",
       "0  44     0\n",
       "1  45     0\n",
       "2  46     0\n",
       "3  47     0\n",
       "4  49     0"
      ]
     },
     "execution_count": 231,
     "metadata": {},
     "output_type": "execute_result"
    }
   ],
   "source": [
    "df_cardio_alco.head(5)"
   ]
  },
  {
   "cell_type": "code",
   "execution_count": 232,
   "metadata": {},
   "outputs": [
    {
     "data": {
      "text/plain": [
       "(56903, 2)"
      ]
     },
     "execution_count": 232,
     "metadata": {},
     "output_type": "execute_result"
    }
   ],
   "source": [
    "df_cardio_alco.shape"
   ]
  },
  {
   "cell_type": "code",
   "execution_count": 233,
   "metadata": {},
   "outputs": [
    {
     "data": {
      "text/html": [
       "<div>\n",
       "<style scoped>\n",
       "    .dataframe tbody tr th:only-of-type {\n",
       "        vertical-align: middle;\n",
       "    }\n",
       "\n",
       "    .dataframe tbody tr th {\n",
       "        vertical-align: top;\n",
       "    }\n",
       "\n",
       "    .dataframe thead th {\n",
       "        text-align: right;\n",
       "    }\n",
       "</style>\n",
       "<table border=\"1\" class=\"dataframe\">\n",
       "  <thead>\n",
       "    <tr style=\"text-align: right;\">\n",
       "      <th></th>\n",
       "      <th>id</th>\n",
       "      <th>alco</th>\n",
       "    </tr>\n",
       "  </thead>\n",
       "  <tbody>\n",
       "    <tr>\n",
       "      <th>count</th>\n",
       "      <td>56903.000000</td>\n",
       "      <td>56903.000000</td>\n",
       "    </tr>\n",
       "    <tr>\n",
       "      <th>mean</th>\n",
       "      <td>48472.162065</td>\n",
       "      <td>0.053442</td>\n",
       "    </tr>\n",
       "    <tr>\n",
       "      <th>std</th>\n",
       "      <td>30994.121701</td>\n",
       "      <td>0.224915</td>\n",
       "    </tr>\n",
       "    <tr>\n",
       "      <th>min</th>\n",
       "      <td>44.000000</td>\n",
       "      <td>0.000000</td>\n",
       "    </tr>\n",
       "    <tr>\n",
       "      <th>25%</th>\n",
       "      <td>20401.000000</td>\n",
       "      <td>0.000000</td>\n",
       "    </tr>\n",
       "    <tr>\n",
       "      <th>50%</th>\n",
       "      <td>40763.000000</td>\n",
       "      <td>0.000000</td>\n",
       "    </tr>\n",
       "    <tr>\n",
       "      <th>75%</th>\n",
       "      <td>77109.500000</td>\n",
       "      <td>0.000000</td>\n",
       "    </tr>\n",
       "    <tr>\n",
       "      <th>max</th>\n",
       "      <td>99954.000000</td>\n",
       "      <td>1.000000</td>\n",
       "    </tr>\n",
       "  </tbody>\n",
       "</table>\n",
       "</div>"
      ],
      "text/plain": [
       "                 id          alco\n",
       "count  56903.000000  56903.000000\n",
       "mean   48472.162065      0.053442\n",
       "std    30994.121701      0.224915\n",
       "min       44.000000      0.000000\n",
       "25%    20401.000000      0.000000\n",
       "50%    40763.000000      0.000000\n",
       "75%    77109.500000      0.000000\n",
       "max    99954.000000      1.000000"
      ]
     },
     "execution_count": 233,
     "metadata": {},
     "output_type": "execute_result"
    }
   ],
   "source": [
    "df_cardio_alco.describe()"
   ]
  },
  {
   "cell_type": "code",
   "execution_count": 234,
   "metadata": {},
   "outputs": [
    {
     "name": "stdout",
     "output_type": "stream",
     "text": [
      "<class 'pandas.core.frame.DataFrame'>\n",
      "RangeIndex: 56903 entries, 0 to 56902\n",
      "Data columns (total 2 columns):\n",
      " #   Column  Non-Null Count  Dtype\n",
      "---  ------  --------------  -----\n",
      " 0   id      56903 non-null  int64\n",
      " 1   alco    56903 non-null  int64\n",
      "dtypes: int64(2)\n",
      "memory usage: 889.2 KB\n"
     ]
    }
   ],
   "source": [
    "df_cardio_alco.info()"
   ]
  },
  {
   "cell_type": "code",
   "execution_count": 235,
   "metadata": {},
   "outputs": [],
   "source": [
    "def check_duplicate(data):\n",
    "    duplicate_count = data.duplicated().sum()\n",
    "    return duplicate_count"
   ]
  },
  {
   "cell_type": "code",
   "execution_count": 236,
   "metadata": {},
   "outputs": [
    {
     "data": {
      "text/plain": [
       "np.int64(0)"
      ]
     },
     "execution_count": 236,
     "metadata": {},
     "output_type": "execute_result"
    }
   ],
   "source": [
    "check_duplicate(df_cardio_base)"
   ]
  },
  {
   "cell_type": "markdown",
   "metadata": {},
   "source": [
    "### Quality issue and observation\n",
    "\n",
    "#### df_covid_data\n",
    "- The new_deaths and new_cases column contains -ve value\n",
    "- Presence of null value in the population, age_65_older_percent, gbp_per_capita, hospital_beds_per_thousand\n",
    "- The date column is in object datatype\n",
    "- The population column is in float dtype\n",
    "\n",
    "#### df_cardio_base\n",
    "\n",
    "- ap_hi and ap_low columns contains -ve value, which is not logical for blood pressure measureement\n",
    "- age column is represented in days mot in years.\n",
    "- Outrageous value for ap_hi and ap_lo columns. This indicate the presence of outliers in this columns.\n",
    "\n",
    "#### df_cardio_alco\n",
    "\n",
    "- this table is an extension of cardio_base table. It documents the alcohol intake of entities."
   ]
  },
  {
   "cell_type": "code",
   "execution_count": 237,
   "metadata": {},
   "outputs": [],
   "source": [
    "## duplicate dataframe for cleaning\n",
    "covid_data_clean = df_covid_data.copy()\n",
    "cardio_base_clean = df_cardio_base.copy()\n",
    "cardio_alco_clean = df_cardio_alco.copy()"
   ]
  },
  {
   "cell_type": "code",
   "execution_count": 238,
   "metadata": {},
   "outputs": [
    {
     "name": "stdout",
     "output_type": "stream",
     "text": [
      "<class 'pandas.core.frame.DataFrame'>\n",
      "RangeIndex: 23082 entries, 0 to 23081\n",
      "Data columns (total 8 columns):\n",
      " #   Column                      Non-Null Count  Dtype  \n",
      "---  ------                      --------------  -----  \n",
      " 0   location                    23082 non-null  object \n",
      " 1   date                        23082 non-null  object \n",
      " 2   new_cases                   23082 non-null  int64  \n",
      " 3   new_deaths                  23082 non-null  int64  \n",
      " 4   population                  23018 non-null  float64\n",
      " 5   aged_65_older_percent       20643 non-null  float64\n",
      " 6   gdp_per_capita              20711 non-null  float64\n",
      " 7   hospital_beds_per_thousand  19144 non-null  float64\n",
      "dtypes: float64(4), int64(2), object(2)\n",
      "memory usage: 1.4+ MB\n"
     ]
    }
   ],
   "source": [
    "covid_data_clean.info()"
   ]
  },
  {
   "cell_type": "markdown",
   "metadata": {},
   "source": [
    "#### wrangling covid_data_clean"
   ]
  },
  {
   "cell_type": "code",
   "execution_count": 239,
   "metadata": {},
   "outputs": [
    {
     "name": "stdout",
     "output_type": "stream",
     "text": [
      "<class 'pandas.core.frame.DataFrame'>\n",
      "RangeIndex: 23082 entries, 0 to 23081\n",
      "Data columns (total 8 columns):\n",
      " #   Column                      Non-Null Count  Dtype  \n",
      "---  ------                      --------------  -----  \n",
      " 0   location                    23082 non-null  object \n",
      " 1   date                        23082 non-null  object \n",
      " 2   new_cases                   23082 non-null  int64  \n",
      " 3   new_deaths                  23082 non-null  int64  \n",
      " 4   population                  23018 non-null  float64\n",
      " 5   aged_65_older_percent       20643 non-null  float64\n",
      " 6   gdp_per_capita              20711 non-null  float64\n",
      " 7   hospital_beds_per_thousand  19144 non-null  float64\n",
      "dtypes: float64(4), int64(2), object(2)\n",
      "memory usage: 1.4+ MB\n"
     ]
    }
   ],
   "source": [
    "## drop empty row with all column empty\n",
    "covid_data_clean.dropna(how='all', inplace=True)\n",
    "\n",
    "## test\n",
    "covid_data_clean.info()"
   ]
  },
  {
   "cell_type": "code",
   "execution_count": 240,
   "metadata": {},
   "outputs": [
    {
     "name": "stdout",
     "output_type": "stream",
     "text": [
      "            location        date  new_cases  new_deaths  population  \\\n",
      "405          Andorra  2020-03-03          1           0     77265.0   \n",
      "406          Andorra  2020-03-14          1           0     77265.0   \n",
      "407          Andorra  2020-03-16          3           0     77265.0   \n",
      "408          Andorra  2020-03-17          9           0     77265.0   \n",
      "409          Andorra  2020-03-18          0           0     77265.0   \n",
      "...              ...         ...        ...         ...         ...   \n",
      "23077  International  2020-02-28          0           0         NaN   \n",
      "23078  International  2020-02-29          0           2         NaN   \n",
      "23079  International  2020-03-01          0           0         NaN   \n",
      "23080  International  2020-03-02          0           0         NaN   \n",
      "23081  International  2020-03-10         -9           1         NaN   \n",
      "\n",
      "       aged_65_older_percent  gdp_per_capita  hospital_beds_per_thousand  \n",
      "405                      NaN             NaN                         NaN  \n",
      "406                      NaN             NaN                         NaN  \n",
      "407                      NaN             NaN                         NaN  \n",
      "408                      NaN             NaN                         NaN  \n",
      "409                      NaN             NaN                         NaN  \n",
      "...                      ...             ...                         ...  \n",
      "23077                    NaN             NaN                         NaN  \n",
      "23078                    NaN             NaN                         NaN  \n",
      "23079                    NaN             NaN                         NaN  \n",
      "23080                    NaN             NaN                         NaN  \n",
      "23081                    NaN             NaN                         NaN  \n",
      "\n",
      "[4754 rows x 8 columns]\n"
     ]
    }
   ],
   "source": [
    "\n",
    "# Inspect rows with null values in specified columns\n",
    "null_rows = covid_data_clean[covid_data_clean[['population', 'aged_65_older_percent', 'gdp_per_capita', 'hospital_beds_per_thousand']].isnull().any(axis=1)]\n",
    "\n",
    "# Display the result\n",
    "print(null_rows)"
   ]
  },
  {
   "cell_type": "code",
   "execution_count": 241,
   "metadata": {},
   "outputs": [
    {
     "name": "stdout",
     "output_type": "stream",
     "text": [
      "<class 'pandas.core.series.Series'>\n",
      "RangeIndex: 23082 entries, 0 to 23081\n",
      "Series name: population\n",
      "Non-Null Count  Dtype\n",
      "--------------  -----\n",
      "23082 non-null  int64\n",
      "dtypes: int64(1)\n",
      "memory usage: 180.5 KB\n",
      "None\n"
     ]
    }
   ],
   "source": [
    "# convert the nan value in the population column to 0 and change the dtype to int.\n",
    "\n",
    "covid_data_clean['population'] = covid_data_clean['population'].fillna(0).astype(int)\n",
    "\n",
    "#test\n",
    "print(covid_data_clean['population'].info())"
   ]
  },
  {
   "cell_type": "code",
   "execution_count": 242,
   "metadata": {},
   "outputs": [
    {
     "name": "stdout",
     "output_type": "stream",
     "text": [
      "Number of values less than 0 in column 'new_deaths': 2\n"
     ]
    }
   ],
   "source": [
    "# Count number of values in column 'new_deaths' that are less than 0\n",
    "count_less_than_zero = (covid_data_clean['new_deaths'] < 0).sum()\n",
    "\n",
    "#test\n",
    "print(f\"Number of values less than 0 in column 'new_deaths': {count_less_than_zero}\")"
   ]
  },
  {
   "cell_type": "code",
   "execution_count": 243,
   "metadata": {},
   "outputs": [
    {
     "name": "stdout",
     "output_type": "stream",
     "text": [
      "Number of values less than 0 in column 'new_cases': 14\n"
     ]
    }
   ],
   "source": [
    "# Count number of values in column 'new_cases' that are less than 0\n",
    "count_less_than_zero = (covid_data_clean['new_cases'] < 0).sum()\n",
    "\n",
    "# test\n",
    "print(f\"Number of values less than 0 in column 'new_cases': {count_less_than_zero}\")"
   ]
  },
  {
   "cell_type": "code",
   "execution_count": 244,
   "metadata": {},
   "outputs": [
    {
     "name": "stdout",
     "output_type": "stream",
     "text": [
      "Number of values less than 0 in column 'new_cases': 0\n"
     ]
    }
   ],
   "source": [
    "# create a new df for cardio_data without new_cases < 0\n",
    "covid_data_clean = covid_data_clean[covid_data_clean['new_cases'] >= 0]\n",
    "\n",
    "# test\n",
    "count_less_than_zero = (covid_data_clean['new_cases'] < 0).sum()\n",
    "print(f\"Number of values less than 0 in column 'new_cases': {count_less_than_zero}\")"
   ]
  },
  {
   "cell_type": "code",
   "execution_count": 245,
   "metadata": {},
   "outputs": [
    {
     "name": "stdout",
     "output_type": "stream",
     "text": [
      "Number of values less than 0 in column 'new_deaths': 0\n"
     ]
    }
   ],
   "source": [
    "# create a new df for cardio_data without new_deaths < 0\n",
    "covid_data_clean = covid_data_clean[covid_data_clean['new_deaths'] >= 0]\n",
    "\n",
    "# test\n",
    "count_less_than_zero = (covid_data_clean['new_deaths'] < 0).sum()\n",
    "print(f\"Number of values less than 0 in column 'new_deaths': {count_less_than_zero}\")"
   ]
  },
  {
   "cell_type": "code",
   "execution_count": 246,
   "metadata": {},
   "outputs": [
    {
     "name": "stdout",
     "output_type": "stream",
     "text": [
      "datetime64[ns]\n"
     ]
    }
   ],
   "source": [
    "# standardize the date column to datetime format (YYYY-MM-DD)\n",
    "\n",
    "covid_data_clean['date'] = pd.to_datetime(covid_data_clean['date'], format='%Y-%m-%d')\n",
    "\n",
    "# test\n",
    "print(covid_data_clean['date'].dtype)"
   ]
  },
  {
   "cell_type": "code",
   "execution_count": 247,
   "metadata": {},
   "outputs": [
    {
     "data": {
      "text/html": [
       "<div>\n",
       "<style scoped>\n",
       "    .dataframe tbody tr th:only-of-type {\n",
       "        vertical-align: middle;\n",
       "    }\n",
       "\n",
       "    .dataframe tbody tr th {\n",
       "        vertical-align: top;\n",
       "    }\n",
       "\n",
       "    .dataframe thead th {\n",
       "        text-align: right;\n",
       "    }\n",
       "</style>\n",
       "<table border=\"1\" class=\"dataframe\">\n",
       "  <thead>\n",
       "    <tr style=\"text-align: right;\">\n",
       "      <th></th>\n",
       "      <th>date</th>\n",
       "      <th>new_cases</th>\n",
       "      <th>new_deaths</th>\n",
       "      <th>population</th>\n",
       "      <th>aged_65_older_percent</th>\n",
       "      <th>gdp_per_capita</th>\n",
       "      <th>hospital_beds_per_thousand</th>\n",
       "    </tr>\n",
       "  </thead>\n",
       "  <tbody>\n",
       "    <tr>\n",
       "      <th>count</th>\n",
       "      <td>23067</td>\n",
       "      <td>23067.000000</td>\n",
       "      <td>23067.000000</td>\n",
       "      <td>2.306700e+04</td>\n",
       "      <td>20630.000000</td>\n",
       "      <td>20697.000000</td>\n",
       "      <td>19130.000000</td>\n",
       "    </tr>\n",
       "    <tr>\n",
       "      <th>mean</th>\n",
       "      <td>2020-04-10 01:40:52.906749952</td>\n",
       "      <td>625.466771</td>\n",
       "      <td>35.695019</td>\n",
       "      <td>1.034627e+08</td>\n",
       "      <td>9.757235</td>\n",
       "      <td>22708.250406</td>\n",
       "      <td>3.205123</td>\n",
       "    </tr>\n",
       "    <tr>\n",
       "      <th>min</th>\n",
       "      <td>2019-12-31 00:00:00</td>\n",
       "      <td>0.000000</td>\n",
       "      <td>0.000000</td>\n",
       "      <td>0.000000e+00</td>\n",
       "      <td>1.144000</td>\n",
       "      <td>661.240000</td>\n",
       "      <td>0.100000</td>\n",
       "    </tr>\n",
       "    <tr>\n",
       "      <th>25%</th>\n",
       "      <td>2020-03-18 00:00:00</td>\n",
       "      <td>0.000000</td>\n",
       "      <td>0.000000</td>\n",
       "      <td>2.078932e+06</td>\n",
       "      <td>3.853000</td>\n",
       "      <td>6426.674000</td>\n",
       "      <td>1.400000</td>\n",
       "    </tr>\n",
       "    <tr>\n",
       "      <th>50%</th>\n",
       "      <td>2020-04-16 00:00:00</td>\n",
       "      <td>3.000000</td>\n",
       "      <td>0.000000</td>\n",
       "      <td>9.449321e+06</td>\n",
       "      <td>7.646000</td>\n",
       "      <td>15524.995000</td>\n",
       "      <td>2.600000</td>\n",
       "    </tr>\n",
       "    <tr>\n",
       "      <th>75%</th>\n",
       "      <td>2020-05-14 00:00:00</td>\n",
       "      <td>55.000000</td>\n",
       "      <td>1.000000</td>\n",
       "      <td>3.346920e+07</td>\n",
       "      <td>15.168000</td>\n",
       "      <td>35220.084000</td>\n",
       "      <td>4.210000</td>\n",
       "    </tr>\n",
       "    <tr>\n",
       "      <th>max</th>\n",
       "      <td>2020-06-10 00:00:00</td>\n",
       "      <td>133510.000000</td>\n",
       "      <td>10520.000000</td>\n",
       "      <td>7.794799e+09</td>\n",
       "      <td>27.049000</td>\n",
       "      <td>116935.600000</td>\n",
       "      <td>13.800000</td>\n",
       "    </tr>\n",
       "    <tr>\n",
       "      <th>std</th>\n",
       "      <td>NaN</td>\n",
       "      <td>5519.007781</td>\n",
       "      <td>330.826505</td>\n",
       "      <td>6.709949e+08</td>\n",
       "      <td>6.444802</td>\n",
       "      <td>21190.657817</td>\n",
       "      <td>2.594131</td>\n",
       "    </tr>\n",
       "  </tbody>\n",
       "</table>\n",
       "</div>"
      ],
      "text/plain": [
       "                                date      new_cases    new_deaths  \\\n",
       "count                          23067   23067.000000  23067.000000   \n",
       "mean   2020-04-10 01:40:52.906749952     625.466771     35.695019   \n",
       "min              2019-12-31 00:00:00       0.000000      0.000000   \n",
       "25%              2020-03-18 00:00:00       0.000000      0.000000   \n",
       "50%              2020-04-16 00:00:00       3.000000      0.000000   \n",
       "75%              2020-05-14 00:00:00      55.000000      1.000000   \n",
       "max              2020-06-10 00:00:00  133510.000000  10520.000000   \n",
       "std                              NaN    5519.007781    330.826505   \n",
       "\n",
       "         population  aged_65_older_percent  gdp_per_capita  \\\n",
       "count  2.306700e+04           20630.000000    20697.000000   \n",
       "mean   1.034627e+08               9.757235    22708.250406   \n",
       "min    0.000000e+00               1.144000      661.240000   \n",
       "25%    2.078932e+06               3.853000     6426.674000   \n",
       "50%    9.449321e+06               7.646000    15524.995000   \n",
       "75%    3.346920e+07              15.168000    35220.084000   \n",
       "max    7.794799e+09              27.049000   116935.600000   \n",
       "std    6.709949e+08               6.444802    21190.657817   \n",
       "\n",
       "       hospital_beds_per_thousand  \n",
       "count                19130.000000  \n",
       "mean                     3.205123  \n",
       "min                      0.100000  \n",
       "25%                      1.400000  \n",
       "50%                      2.600000  \n",
       "75%                      4.210000  \n",
       "max                     13.800000  \n",
       "std                      2.594131  "
      ]
     },
     "execution_count": 247,
     "metadata": {},
     "output_type": "execute_result"
    }
   ],
   "source": [
    "covid_data_clean.describe()"
   ]
  },
  {
   "cell_type": "code",
   "execution_count": 248,
   "metadata": {},
   "outputs": [
    {
     "data": {
      "text/plain": [
       "location                      False\n",
       "date                          False\n",
       "new_cases                     False\n",
       "new_deaths                    False\n",
       "population                    False\n",
       "aged_65_older_percent          True\n",
       "gdp_per_capita                 True\n",
       "hospital_beds_per_thousand     True\n",
       "dtype: bool"
      ]
     },
     "execution_count": 248,
     "metadata": {},
     "output_type": "execute_result"
    }
   ],
   "source": [
    "covid_data_clean.isnull().any()"
   ]
  },
  {
   "cell_type": "markdown",
   "metadata": {},
   "source": [
    "## Wrangle the cardio_base dataframe"
   ]
  },
  {
   "cell_type": "code",
   "execution_count": 249,
   "metadata": {},
   "outputs": [
    {
     "data": {
      "text/html": [
       "<div>\n",
       "<style scoped>\n",
       "    .dataframe tbody tr th:only-of-type {\n",
       "        vertical-align: middle;\n",
       "    }\n",
       "\n",
       "    .dataframe tbody tr th {\n",
       "        vertical-align: top;\n",
       "    }\n",
       "\n",
       "    .dataframe thead th {\n",
       "        text-align: right;\n",
       "    }\n",
       "</style>\n",
       "<table border=\"1\" class=\"dataframe\">\n",
       "  <thead>\n",
       "    <tr style=\"text-align: right;\">\n",
       "      <th></th>\n",
       "      <th>id</th>\n",
       "      <th>age</th>\n",
       "      <th>gender</th>\n",
       "      <th>height</th>\n",
       "      <th>weight</th>\n",
       "      <th>ap_hi</th>\n",
       "      <th>ap_lo</th>\n",
       "      <th>cholesterol</th>\n",
       "      <th>smoke</th>\n",
       "    </tr>\n",
       "  </thead>\n",
       "  <tbody>\n",
       "    <tr>\n",
       "      <th>count</th>\n",
       "      <td>70000.000000</td>\n",
       "      <td>70000.000000</td>\n",
       "      <td>70000.000000</td>\n",
       "      <td>70000.000000</td>\n",
       "      <td>70000.000000</td>\n",
       "      <td>70000.000000</td>\n",
       "      <td>70000.000000</td>\n",
       "      <td>70000.000000</td>\n",
       "      <td>70000.000000</td>\n",
       "    </tr>\n",
       "    <tr>\n",
       "      <th>mean</th>\n",
       "      <td>49972.419900</td>\n",
       "      <td>19468.865814</td>\n",
       "      <td>1.349571</td>\n",
       "      <td>164.359229</td>\n",
       "      <td>74.205690</td>\n",
       "      <td>128.817286</td>\n",
       "      <td>96.630414</td>\n",
       "      <td>1.366871</td>\n",
       "      <td>0.088129</td>\n",
       "    </tr>\n",
       "    <tr>\n",
       "      <th>std</th>\n",
       "      <td>28851.302323</td>\n",
       "      <td>2467.251667</td>\n",
       "      <td>0.476838</td>\n",
       "      <td>8.210126</td>\n",
       "      <td>14.395757</td>\n",
       "      <td>154.011419</td>\n",
       "      <td>188.472530</td>\n",
       "      <td>0.680250</td>\n",
       "      <td>0.283484</td>\n",
       "    </tr>\n",
       "    <tr>\n",
       "      <th>min</th>\n",
       "      <td>0.000000</td>\n",
       "      <td>10798.000000</td>\n",
       "      <td>1.000000</td>\n",
       "      <td>55.000000</td>\n",
       "      <td>10.000000</td>\n",
       "      <td>-150.000000</td>\n",
       "      <td>-70.000000</td>\n",
       "      <td>1.000000</td>\n",
       "      <td>0.000000</td>\n",
       "    </tr>\n",
       "    <tr>\n",
       "      <th>25%</th>\n",
       "      <td>25006.750000</td>\n",
       "      <td>17664.000000</td>\n",
       "      <td>1.000000</td>\n",
       "      <td>159.000000</td>\n",
       "      <td>65.000000</td>\n",
       "      <td>120.000000</td>\n",
       "      <td>80.000000</td>\n",
       "      <td>1.000000</td>\n",
       "      <td>0.000000</td>\n",
       "    </tr>\n",
       "    <tr>\n",
       "      <th>50%</th>\n",
       "      <td>50001.500000</td>\n",
       "      <td>19703.000000</td>\n",
       "      <td>1.000000</td>\n",
       "      <td>165.000000</td>\n",
       "      <td>72.000000</td>\n",
       "      <td>120.000000</td>\n",
       "      <td>80.000000</td>\n",
       "      <td>1.000000</td>\n",
       "      <td>0.000000</td>\n",
       "    </tr>\n",
       "    <tr>\n",
       "      <th>75%</th>\n",
       "      <td>74889.250000</td>\n",
       "      <td>21327.000000</td>\n",
       "      <td>2.000000</td>\n",
       "      <td>170.000000</td>\n",
       "      <td>82.000000</td>\n",
       "      <td>140.000000</td>\n",
       "      <td>90.000000</td>\n",
       "      <td>2.000000</td>\n",
       "      <td>0.000000</td>\n",
       "    </tr>\n",
       "    <tr>\n",
       "      <th>max</th>\n",
       "      <td>99999.000000</td>\n",
       "      <td>23713.000000</td>\n",
       "      <td>2.000000</td>\n",
       "      <td>250.000000</td>\n",
       "      <td>200.000000</td>\n",
       "      <td>16020.000000</td>\n",
       "      <td>11000.000000</td>\n",
       "      <td>3.000000</td>\n",
       "      <td>1.000000</td>\n",
       "    </tr>\n",
       "  </tbody>\n",
       "</table>\n",
       "</div>"
      ],
      "text/plain": [
       "                 id           age        gender        height        weight  \\\n",
       "count  70000.000000  70000.000000  70000.000000  70000.000000  70000.000000   \n",
       "mean   49972.419900  19468.865814      1.349571    164.359229     74.205690   \n",
       "std    28851.302323   2467.251667      0.476838      8.210126     14.395757   \n",
       "min        0.000000  10798.000000      1.000000     55.000000     10.000000   \n",
       "25%    25006.750000  17664.000000      1.000000    159.000000     65.000000   \n",
       "50%    50001.500000  19703.000000      1.000000    165.000000     72.000000   \n",
       "75%    74889.250000  21327.000000      2.000000    170.000000     82.000000   \n",
       "max    99999.000000  23713.000000      2.000000    250.000000    200.000000   \n",
       "\n",
       "              ap_hi         ap_lo   cholesterol         smoke  \n",
       "count  70000.000000  70000.000000  70000.000000  70000.000000  \n",
       "mean     128.817286     96.630414      1.366871      0.088129  \n",
       "std      154.011419    188.472530      0.680250      0.283484  \n",
       "min     -150.000000    -70.000000      1.000000      0.000000  \n",
       "25%      120.000000     80.000000      1.000000      0.000000  \n",
       "50%      120.000000     80.000000      1.000000      0.000000  \n",
       "75%      140.000000     90.000000      2.000000      0.000000  \n",
       "max    16020.000000  11000.000000      3.000000      1.000000  "
      ]
     },
     "execution_count": 249,
     "metadata": {},
     "output_type": "execute_result"
    }
   ],
   "source": [
    "cardio_base_clean.describe()"
   ]
  },
  {
   "cell_type": "code",
   "execution_count": 250,
   "metadata": {},
   "outputs": [
    {
     "name": "stdout",
     "output_type": "stream",
     "text": [
      "there is invalid_rows\n"
     ]
    }
   ],
   "source": [
    "# Identify rows with empty or negative values from 'ap_hi' and 'ap_lo'\n",
    "invalid_rows = cardio_base_clean[(cardio_base_clean['ap_hi'] < 0) | \n",
    "                                 (cardio_base_clean['ap_lo'] < 0) | \n",
    "                                 cardio_base_clean[['ap_hi', 'ap_lo']].isnull().any(axis=1)]\n",
    "\n",
    "# Test before dropping the invalid rows\n",
    "for idx, row in cardio_base_clean.iterrows():\n",
    "    if row.equals(invalid_rows.loc[idx]) if idx in invalid_rows.index else False:\n",
    "        print(\"there is invalid_rows\")\n",
    "        break\n",
    "    else:\n",
    "        pass"
   ]
  },
  {
   "cell_type": "code",
   "execution_count": 251,
   "metadata": {},
   "outputs": [],
   "source": [
    "# Drop invalid rows in place from cardio_base_clean\n",
    "cardio_base_clean.drop(invalid_rows.index, inplace=True)\n"
   ]
  },
  {
   "cell_type": "code",
   "execution_count": 252,
   "metadata": {},
   "outputs": [
    {
     "name": "stdout",
     "output_type": "stream",
     "text": [
      "negative and empty rows dropped\n"
     ]
    }
   ],
   "source": [
    "# Test for rows in invalid_rows after dropping them\n",
    "invalid_found = False  # Flag to track if invalid rows are found\n",
    "\n",
    "for idx, row in cardio_base_clean.iterrows():\n",
    "    if row.equals(invalid_rows.loc[idx]) if idx in invalid_rows.index else False:\n",
    "        print(\"there is invalid_rows\")\n",
    "        invalid_found = True\n",
    "        break  \n",
    "\n",
    "# Only print if invalid rows were dropped\n",
    "if not invalid_found:\n",
    "    print(\"negative and empty rows dropped\")\n",
    "\n",
    "\n"
   ]
  },
  {
   "cell_type": "code",
   "execution_count": 253,
   "metadata": {},
   "outputs": [
    {
     "data": {
      "text/plain": [
       "64999    49\n",
       "13729    48\n",
       "12962    41\n",
       "41723    55\n",
       "67677    50\n",
       "Name: age, dtype: int64"
      ]
     },
     "execution_count": 253,
     "metadata": {},
     "output_type": "execute_result"
    }
   ],
   "source": [
    "## convert age column to count from days to years\n",
    "\n",
    "cardio_base_clean['age'] = (cardio_base_clean['age'] / 365).astype(int)\n",
    "\n",
    "# Test\n",
    "cardio_base_clean['age'].sample(5)"
   ]
  },
  {
   "cell_type": "code",
   "execution_count": 254,
   "metadata": {},
   "outputs": [
    {
     "data": {
      "text/html": [
       "<div>\n",
       "<style scoped>\n",
       "    .dataframe tbody tr th:only-of-type {\n",
       "        vertical-align: middle;\n",
       "    }\n",
       "\n",
       "    .dataframe tbody tr th {\n",
       "        vertical-align: top;\n",
       "    }\n",
       "\n",
       "    .dataframe thead th {\n",
       "        text-align: right;\n",
       "    }\n",
       "</style>\n",
       "<table border=\"1\" class=\"dataframe\">\n",
       "  <thead>\n",
       "    <tr style=\"text-align: right;\">\n",
       "      <th></th>\n",
       "      <th>id</th>\n",
       "      <th>age</th>\n",
       "      <th>gender</th>\n",
       "      <th>height</th>\n",
       "      <th>weight</th>\n",
       "      <th>ap_hi</th>\n",
       "      <th>ap_lo</th>\n",
       "      <th>cholesterol</th>\n",
       "      <th>smoke</th>\n",
       "    </tr>\n",
       "  </thead>\n",
       "  <tbody>\n",
       "    <tr>\n",
       "      <th>count</th>\n",
       "      <td>69992.000000</td>\n",
       "      <td>69992.000000</td>\n",
       "      <td>69992.000000</td>\n",
       "      <td>69992.000000</td>\n",
       "      <td>69992.000000</td>\n",
       "      <td>69992.000000</td>\n",
       "      <td>69992.000000</td>\n",
       "      <td>69992.000000</td>\n",
       "      <td>69992.000000</td>\n",
       "    </tr>\n",
       "    <tr>\n",
       "      <th>mean</th>\n",
       "      <td>49973.395702</td>\n",
       "      <td>52.840696</td>\n",
       "      <td>1.349554</td>\n",
       "      <td>164.359384</td>\n",
       "      <td>74.206485</td>\n",
       "      <td>128.843868</td>\n",
       "      <td>96.634601</td>\n",
       "      <td>1.366885</td>\n",
       "      <td>0.088139</td>\n",
       "    </tr>\n",
       "    <tr>\n",
       "      <th>std</th>\n",
       "      <td>28851.700988</td>\n",
       "      <td>6.766341</td>\n",
       "      <td>0.476833</td>\n",
       "      <td>8.210423</td>\n",
       "      <td>14.395726</td>\n",
       "      <td>153.999302</td>\n",
       "      <td>188.482151</td>\n",
       "      <td>0.680272</td>\n",
       "      <td>0.283498</td>\n",
       "    </tr>\n",
       "    <tr>\n",
       "      <th>min</th>\n",
       "      <td>0.000000</td>\n",
       "      <td>29.000000</td>\n",
       "      <td>1.000000</td>\n",
       "      <td>55.000000</td>\n",
       "      <td>10.000000</td>\n",
       "      <td>1.000000</td>\n",
       "      <td>0.000000</td>\n",
       "      <td>1.000000</td>\n",
       "      <td>0.000000</td>\n",
       "    </tr>\n",
       "    <tr>\n",
       "      <th>25%</th>\n",
       "      <td>25006.750000</td>\n",
       "      <td>48.000000</td>\n",
       "      <td>1.000000</td>\n",
       "      <td>159.000000</td>\n",
       "      <td>65.000000</td>\n",
       "      <td>120.000000</td>\n",
       "      <td>80.000000</td>\n",
       "      <td>1.000000</td>\n",
       "      <td>0.000000</td>\n",
       "    </tr>\n",
       "    <tr>\n",
       "      <th>50%</th>\n",
       "      <td>50003.000000</td>\n",
       "      <td>53.000000</td>\n",
       "      <td>1.000000</td>\n",
       "      <td>165.000000</td>\n",
       "      <td>72.000000</td>\n",
       "      <td>120.000000</td>\n",
       "      <td>80.000000</td>\n",
       "      <td>1.000000</td>\n",
       "      <td>0.000000</td>\n",
       "    </tr>\n",
       "    <tr>\n",
       "      <th>75%</th>\n",
       "      <td>74890.250000</td>\n",
       "      <td>58.000000</td>\n",
       "      <td>2.000000</td>\n",
       "      <td>170.000000</td>\n",
       "      <td>82.000000</td>\n",
       "      <td>140.000000</td>\n",
       "      <td>90.000000</td>\n",
       "      <td>2.000000</td>\n",
       "      <td>0.000000</td>\n",
       "    </tr>\n",
       "    <tr>\n",
       "      <th>max</th>\n",
       "      <td>99999.000000</td>\n",
       "      <td>64.000000</td>\n",
       "      <td>2.000000</td>\n",
       "      <td>250.000000</td>\n",
       "      <td>200.000000</td>\n",
       "      <td>16020.000000</td>\n",
       "      <td>11000.000000</td>\n",
       "      <td>3.000000</td>\n",
       "      <td>1.000000</td>\n",
       "    </tr>\n",
       "  </tbody>\n",
       "</table>\n",
       "</div>"
      ],
      "text/plain": [
       "                 id           age        gender        height        weight  \\\n",
       "count  69992.000000  69992.000000  69992.000000  69992.000000  69992.000000   \n",
       "mean   49973.395702     52.840696      1.349554    164.359384     74.206485   \n",
       "std    28851.700988      6.766341      0.476833      8.210423     14.395726   \n",
       "min        0.000000     29.000000      1.000000     55.000000     10.000000   \n",
       "25%    25006.750000     48.000000      1.000000    159.000000     65.000000   \n",
       "50%    50003.000000     53.000000      1.000000    165.000000     72.000000   \n",
       "75%    74890.250000     58.000000      2.000000    170.000000     82.000000   \n",
       "max    99999.000000     64.000000      2.000000    250.000000    200.000000   \n",
       "\n",
       "              ap_hi         ap_lo   cholesterol         smoke  \n",
       "count  69992.000000  69992.000000  69992.000000  69992.000000  \n",
       "mean     128.843868     96.634601      1.366885      0.088139  \n",
       "std      153.999302    188.482151      0.680272      0.283498  \n",
       "min        1.000000      0.000000      1.000000      0.000000  \n",
       "25%      120.000000     80.000000      1.000000      0.000000  \n",
       "50%      120.000000     80.000000      1.000000      0.000000  \n",
       "75%      140.000000     90.000000      2.000000      0.000000  \n",
       "max    16020.000000  11000.000000      3.000000      1.000000  "
      ]
     },
     "execution_count": 254,
     "metadata": {},
     "output_type": "execute_result"
    }
   ],
   "source": [
    "cardio_base_clean.describe()"
   ]
  },
  {
   "cell_type": "code",
   "execution_count": 255,
   "metadata": {},
   "outputs": [
    {
     "data": {
      "text/html": [
       "<div>\n",
       "<style scoped>\n",
       "    .dataframe tbody tr th:only-of-type {\n",
       "        vertical-align: middle;\n",
       "    }\n",
       "\n",
       "    .dataframe tbody tr th {\n",
       "        vertical-align: top;\n",
       "    }\n",
       "\n",
       "    .dataframe thead th {\n",
       "        text-align: right;\n",
       "    }\n",
       "</style>\n",
       "<table border=\"1\" class=\"dataframe\">\n",
       "  <thead>\n",
       "    <tr style=\"text-align: right;\">\n",
       "      <th></th>\n",
       "      <th>id</th>\n",
       "      <th>alco</th>\n",
       "    </tr>\n",
       "  </thead>\n",
       "  <tbody>\n",
       "    <tr>\n",
       "      <th>0</th>\n",
       "      <td>44</td>\n",
       "      <td>0</td>\n",
       "    </tr>\n",
       "    <tr>\n",
       "      <th>1</th>\n",
       "      <td>45</td>\n",
       "      <td>0</td>\n",
       "    </tr>\n",
       "    <tr>\n",
       "      <th>2</th>\n",
       "      <td>46</td>\n",
       "      <td>0</td>\n",
       "    </tr>\n",
       "    <tr>\n",
       "      <th>3</th>\n",
       "      <td>47</td>\n",
       "      <td>0</td>\n",
       "    </tr>\n",
       "    <tr>\n",
       "      <th>4</th>\n",
       "      <td>49</td>\n",
       "      <td>0</td>\n",
       "    </tr>\n",
       "    <tr>\n",
       "      <th>...</th>\n",
       "      <td>...</td>\n",
       "      <td>...</td>\n",
       "    </tr>\n",
       "    <tr>\n",
       "      <th>56898</th>\n",
       "      <td>99949</td>\n",
       "      <td>0</td>\n",
       "    </tr>\n",
       "    <tr>\n",
       "      <th>56899</th>\n",
       "      <td>99950</td>\n",
       "      <td>0</td>\n",
       "    </tr>\n",
       "    <tr>\n",
       "      <th>56900</th>\n",
       "      <td>99951</td>\n",
       "      <td>0</td>\n",
       "    </tr>\n",
       "    <tr>\n",
       "      <th>56901</th>\n",
       "      <td>99952</td>\n",
       "      <td>0</td>\n",
       "    </tr>\n",
       "    <tr>\n",
       "      <th>56902</th>\n",
       "      <td>99954</td>\n",
       "      <td>0</td>\n",
       "    </tr>\n",
       "  </tbody>\n",
       "</table>\n",
       "<p>56903 rows × 2 columns</p>\n",
       "</div>"
      ],
      "text/plain": [
       "          id  alco\n",
       "0         44     0\n",
       "1         45     0\n",
       "2         46     0\n",
       "3         47     0\n",
       "4         49     0\n",
       "...      ...   ...\n",
       "56898  99949     0\n",
       "56899  99950     0\n",
       "56900  99951     0\n",
       "56901  99952     0\n",
       "56902  99954     0\n",
       "\n",
       "[56903 rows x 2 columns]"
      ]
     },
     "execution_count": 255,
     "metadata": {},
     "output_type": "execute_result"
    }
   ],
   "source": [
    "cardio_alco_clean.drop_duplicates()"
   ]
  },
  {
   "cell_type": "markdown",
   "metadata": {},
   "source": [
    "## Merged the cardio_base_clean with cardio_alco_clean"
   ]
  },
  {
   "cell_type": "code",
   "execution_count": 256,
   "metadata": {},
   "outputs": [
    {
     "name": "stdout",
     "output_type": "stream",
     "text": [
      "<class 'pandas.core.frame.DataFrame'>\n",
      "RangeIndex: 56896 entries, 0 to 56895\n",
      "Data columns (total 10 columns):\n",
      " #   Column       Non-Null Count  Dtype  \n",
      "---  ------       --------------  -----  \n",
      " 0   id           56896 non-null  int64  \n",
      " 1   age          56896 non-null  int64  \n",
      " 2   gender       56896 non-null  int64  \n",
      " 3   height       56896 non-null  int64  \n",
      " 4   weight       56896 non-null  float64\n",
      " 5   ap_hi        56896 non-null  int64  \n",
      " 6   ap_lo        56896 non-null  int64  \n",
      " 7   cholesterol  56896 non-null  int64  \n",
      " 8   smoke        56896 non-null  int64  \n",
      " 9   alco         56896 non-null  int64  \n",
      "dtypes: float64(1), int64(9)\n",
      "memory usage: 4.3 MB\n"
     ]
    }
   ],
   "source": [
    "merged_cardio = pd.merge(cardio_base_clean, cardio_alco_clean, on= 'id', how='inner')\n",
    "\n",
    "merged_cardio.info()"
   ]
  },
  {
   "cell_type": "code",
   "execution_count": 257,
   "metadata": {},
   "outputs": [
    {
     "data": {
      "text/html": [
       "<div>\n",
       "<style scoped>\n",
       "    .dataframe tbody tr th:only-of-type {\n",
       "        vertical-align: middle;\n",
       "    }\n",
       "\n",
       "    .dataframe tbody tr th {\n",
       "        vertical-align: top;\n",
       "    }\n",
       "\n",
       "    .dataframe thead th {\n",
       "        text-align: right;\n",
       "    }\n",
       "</style>\n",
       "<table border=\"1\" class=\"dataframe\">\n",
       "  <thead>\n",
       "    <tr style=\"text-align: right;\">\n",
       "      <th></th>\n",
       "      <th>id</th>\n",
       "      <th>age</th>\n",
       "      <th>gender</th>\n",
       "      <th>height</th>\n",
       "      <th>weight</th>\n",
       "      <th>ap_hi</th>\n",
       "      <th>ap_lo</th>\n",
       "      <th>cholesterol</th>\n",
       "      <th>smoke</th>\n",
       "      <th>alco</th>\n",
       "    </tr>\n",
       "  </thead>\n",
       "  <tbody>\n",
       "    <tr>\n",
       "      <th>0</th>\n",
       "      <td>44</td>\n",
       "      <td>40</td>\n",
       "      <td>1</td>\n",
       "      <td>159</td>\n",
       "      <td>60.0</td>\n",
       "      <td>110</td>\n",
       "      <td>70</td>\n",
       "      <td>1</td>\n",
       "      <td>0</td>\n",
       "      <td>0</td>\n",
       "    </tr>\n",
       "    <tr>\n",
       "      <th>1</th>\n",
       "      <td>45</td>\n",
       "      <td>56</td>\n",
       "      <td>1</td>\n",
       "      <td>160</td>\n",
       "      <td>73.0</td>\n",
       "      <td>130</td>\n",
       "      <td>85</td>\n",
       "      <td>1</td>\n",
       "      <td>0</td>\n",
       "      <td>0</td>\n",
       "    </tr>\n",
       "    <tr>\n",
       "      <th>2</th>\n",
       "      <td>46</td>\n",
       "      <td>60</td>\n",
       "      <td>2</td>\n",
       "      <td>173</td>\n",
       "      <td>82.0</td>\n",
       "      <td>140</td>\n",
       "      <td>90</td>\n",
       "      <td>3</td>\n",
       "      <td>0</td>\n",
       "      <td>0</td>\n",
       "    </tr>\n",
       "    <tr>\n",
       "      <th>3</th>\n",
       "      <td>47</td>\n",
       "      <td>55</td>\n",
       "      <td>1</td>\n",
       "      <td>163</td>\n",
       "      <td>55.0</td>\n",
       "      <td>120</td>\n",
       "      <td>80</td>\n",
       "      <td>1</td>\n",
       "      <td>0</td>\n",
       "      <td>0</td>\n",
       "    </tr>\n",
       "    <tr>\n",
       "      <th>4</th>\n",
       "      <td>49</td>\n",
       "      <td>50</td>\n",
       "      <td>2</td>\n",
       "      <td>175</td>\n",
       "      <td>95.0</td>\n",
       "      <td>120</td>\n",
       "      <td>80</td>\n",
       "      <td>1</td>\n",
       "      <td>0</td>\n",
       "      <td>0</td>\n",
       "    </tr>\n",
       "  </tbody>\n",
       "</table>\n",
       "</div>"
      ],
      "text/plain": [
       "   id  age  gender  height  weight  ap_hi  ap_lo  cholesterol  smoke  alco\n",
       "0  44   40       1     159    60.0    110     70            1      0     0\n",
       "1  45   56       1     160    73.0    130     85            1      0     0\n",
       "2  46   60       2     173    82.0    140     90            3      0     0\n",
       "3  47   55       1     163    55.0    120     80            1      0     0\n",
       "4  49   50       2     175    95.0    120     80            1      0     0"
      ]
     },
     "execution_count": 257,
     "metadata": {},
     "output_type": "execute_result"
    }
   ],
   "source": [
    "merged_cardio.head(5)"
   ]
  },
  {
   "cell_type": "markdown",
   "metadata": {},
   "source": [
    "### ANALYSIS"
   ]
  },
  {
   "cell_type": "markdown",
   "metadata": {},
   "source": [
    "##### Questions\n",
    "\n",
    "- 1) How much heavier is the age group with the highest average weight than age group with the lowest weight?\n",
    "- 2) Do people over 50 have higher cholesterol level than the rest?\n",
    "- 3) Are men likely to be smoker than women\n",
    "- 4) How tall are the tallest 1% of people?\n",
    "- 5) which two feature have the highest spearman rank correlation?\n",
    "- 6) % people that are more than 2 standard deviation far from the average height?\n",
    "- 7) What % of the population was 50 years old consume alcohol conumption information\n",
    "- 8) Which of the following statements is true with 95% confidence?\n",
    "- 9) When did the difference in total number of confirmed cases between Italy and Germany become more than 10000?\n",
    "- 10) Look at the cumulative number of confirmed cases in Italy between 2020-02-28 and 2020-03-20. Fit an exponential function (y = Ae^(Bx)) to this set to express cumulative cases   as a function of days passed, by minimizing squared loss. What is the difference between the exponential curve and the total number of real cases on 2020-03-20?\n",
    "- 11) Which country has the 3rd highest death rate? Death rate: total number of death per million inhabitants.\n",
    "- 12) What is the F1 score of the following statement: Countries, where more than 20% of the population is over 65 years old, have death rates over 50 per million inhabitants. Ignore countries, where any of the neccessary information is missing!\n",
    "- 13) What is the probability that a country has GDP over $10000, if we known that they have at least 5 hospital beds per 1000 inhabitants\n",
    "- 14)  On which day in the month of March did the difference in cases between Italy and Germany exceed 10,000?\n",
    "- 15) What country has the highest death rate, where percentage of its population aged 65 is above 20%?"
   ]
  },
  {
   "cell_type": "markdown",
   "metadata": {},
   "source": [
    "#### 1) How much heavier is the age group with the highest average weight than age group with the lowest weight?"
   ]
  },
  {
   "cell_type": "code",
   "execution_count": 258,
   "metadata": {},
   "outputs": [
    {
     "name": "stdout",
     "output_type": "stream",
     "text": [
      "the diff btw min and max average weight within an age_group is: 16.87989031078611\n"
     ]
    }
   ],
   "source": [
    "# group by age and calculate the mean weight for each age class\n",
    "\n",
    "age_group_weight_mean = cardio_base_clean.groupby('age')['weight'].mean()\n",
    "\n",
    "# difference between the higest and the lowest mean weight\n",
    "max_avg_weight = age_group_weight_mean.max()\n",
    "min_avg_weight = age_group_weight_mean.min()\n",
    "\n",
    "weight_diff = max_avg_weight  - min_avg_weight \n",
    "\n",
    "print(F\"the diff btw min and max average weight within an age_group is: {weight_diff}\")\n"
   ]
  },
  {
   "cell_type": "code",
   "execution_count": 270,
   "metadata": {},
   "outputs": [
    {
     "name": "stdout",
     "output_type": "stream",
     "text": [
      "% difference is: 28.61%\n",
      "frac difference is: 0.29\n"
     ]
    }
   ],
   "source": [
    "## fractional/ percentage difference between the max_avg_weight and min_avg_weight \n",
    "\n",
    "perc_diff = (weight_diff / min_avg_weight) * 100\n",
    "frac_diff = weight_diff / min_avg_weight\n",
    "\n",
    "print(f\"% difference is: {perc_diff:.2f}%\\nfrac difference is: {frac_diff:.2f}\")"
   ]
  },
  {
   "cell_type": "markdown",
   "metadata": {},
   "source": [
    " ####  2) Do people over 50 have higher cholesterol level than the rest?"
   ]
  },
  {
   "cell_type": "code",
   "execution_count": 260,
   "metadata": {},
   "outputs": [
    {
     "name": "stdout",
     "output_type": "stream",
     "text": [
      "Average cholesterol for people > 50: 1.4313989111987833\n",
      "\n",
      "Average cholesterol for people <= 50: 1.2479996750741238\n"
     ]
    }
   ],
   "source": [
    "# Create two groups based on age\n",
    "over_50 = cardio_base_clean[cardio_base_clean['age'] > 50]\n",
    "under_50 = cardio_base_clean[cardio_base_clean['age'] <= 50]\n",
    "\n",
    "# Compare the average cholesterol levels\n",
    "mean_over_50 = over_50['cholesterol'].mean()\n",
    "mean_under_50 = under_50['cholesterol'].mean()\n",
    "\n",
    "print(f\"Average cholesterol for people > 50: {mean_over_50}\\n\\nAverage cholesterol for people <= 50: {mean_under_50}\")\n"
   ]
  },
  {
   "cell_type": "code",
   "execution_count": 263,
   "metadata": {},
   "outputs": [
    {
     "name": "stdout",
     "output_type": "stream",
     "text": [
      "T-statistic: 34.34460725310023, P-value: 2.329564706531928e-256\n"
     ]
    }
   ],
   "source": [
    "# t-test to see if the difference is statistically significant\n",
    "from scipy.stats import ttest_ind\n",
    "\n",
    "t_stat, p_val = ttest_ind(over_50['cholesterol'], under_50['cholesterol'])\n",
    "\n",
    "print(f\"T-statistic: {t_stat}, P-value: {p_val}\")"
   ]
  },
  {
   "cell_type": "markdown",
   "metadata": {},
   "source": [
    "p-value < 0.05. Therefore, statiscally, this difference is significant as the point of doing t-test is to see if the correlation is applicable. "
   ]
  },
  {
   "cell_type": "code",
   "execution_count": 264,
   "metadata": {},
   "outputs": [
    {
     "data": {
      "image/png": "[encoded data removed]",
      "text/plain": [
       "<Figure size 600x450 with 1 Axes>"
      ]
     },
     "metadata": {},
     "output_type": "display_data"
    }
   ],
   "source": [
    "# Prepare data for the bar chart\n",
    "categories = ['50 and Younger', 'Over 50']\n",
    "means = [mean_under_50,mean_over_50]\n",
    "\n",
    "# Create a bar chart\n",
    "fig, ax = plt.subplots(figsize=(6, 4.5))\n",
    "bars = ax.bar(categories, means, color=['lightblue', 'salmon'], edgecolor='grey')\n",
    "\n",
    "# Add labels and title\n",
    "ax.set_ylabel('Average Cholesterol Level (mg/dL)', fontsize=9)\n",
    "ax.set_title('Average Cholesterol Levels by Age Group', fontsize=10)\n",
    "ax.set_ylim(0, max(means)+ 0.1)  # Set y-axis limit with some padding\n",
    "\n",
    "# data labels \n",
    "for bar in bars:\n",
    "    yval = bar.get_height()\n",
    "    ax.text(bar.get_x() + bar.get_width()/2, yval + 0, f\"{yval:.1f}\", ha='center', va='bottom', fontsize=12)\n",
    "\n",
    "# Show the grid for better readability\n",
    "ax.yaxis.grid(True, linestyle='--', alpha=0.4)\n",
    "\n",
    "plt.tight_layout()\n",
    "plt.show()\n"
   ]
  },
  {
   "cell_type": "markdown",
   "metadata": {},
   "source": [
    "#### Are men likely to be smoker than women"
   ]
  },
  {
   "cell_type": "code",
   "execution_count": null,
   "metadata": {},
   "outputs": [],
   "source": []
  }
 ],
 "metadata": {
  "kernelspec": {
   "display_name": "Python 3",
   "language": "python",
   "name": "python3"
  },
  "language_info": {
   "codemirror_mode": {
    "name": "ipython",
    "version": 3
   },
   "file_extension": ".py",
   "mimetype": "text/x-python",
   "name": "python",
   "nbconvert_exporter": "python",
   "pygments_lexer": "ipython3",
   "version": "3.9.13"
  }
 },
 "nbformat": 4,
 "nbformat_minor": 2
}
